{
 "cells": [
  {
   "cell_type": "code",
   "execution_count": 1,
   "metadata": {},
   "outputs": [],
   "source": [
    "import pandas as pd\n",
    "import psycopg2\n",
    "from sqlalchemy import create_engine\n",
    "import numpy as np"
   ]
  },
  {
   "cell_type": "code",
   "execution_count": 2,
   "metadata": {},
   "outputs": [],
   "source": [
    "def db_connection(user, password, host, port,db):\n",
    "    engine= psycopg2.connect(\n",
    "         user= user,\n",
    "         password= password,\n",
    "         host= host,\n",
    "         port=port,\n",
    "         database= db\n",
    "    )\n",
    "    return engine"
   ]
  },
  {
   "cell_type": "code",
   "execution_count": 3,
   "metadata": {},
   "outputs": [],
   "source": [
    "db_engine= db_connection(user='postgres', password='postgres', host='localhost', port=5432 ,db='test')\n"
   ]
  },
  {
   "cell_type": "code",
   "execution_count": 4,
   "metadata": {},
   "outputs": [],
   "source": [
    "def writer(user, password, host, port,db):\n",
    "    engine= create_engine(\n",
    "         f'postgresql://{user}:{password}@{host}:{port}/{db}'\n",
    "    )\n",
    "    engine.connect()\n",
    "    return engine"
   ]
  },
  {
   "cell_type": "code",
   "execution_count": 5,
   "metadata": {},
   "outputs": [],
   "source": [
    "db_conn= writer(user='postgres', password='postgres', host='localhost', port=5432 ,db='retaildwh')"
   ]
  },
  {
   "cell_type": "code",
   "execution_count": 6,
   "metadata": {},
   "outputs": [
    {
     "name": "stderr",
     "output_type": "stream",
     "text": [
      "C:\\Users\\Mohammed\\AppData\\Local\\Temp\\ipykernel_17864\\2770912929.py:2: UserWarning: pandas only supports SQLAlchemy connectable (engine/connection) or database string URI or sqlite3 DBAPI2 connection. Other DBAPI2 objects are not tested. Please consider using SQLAlchemy.\n",
      "  cleaned_df_new= pd.read_sql('select * from retail_cleaned', con=db_engine)\n"
     ]
    },
    {
     "ename": "DatabaseError",
     "evalue": "Execution failed on sql 'select * from retail_cleaned': relation \"retail_cleaned\" does not exist\nLINE 1: select * from retail_cleaned\n                      ^\n",
     "output_type": "error",
     "traceback": [
      "\u001b[1;31m---------------------------------------------------------------------------\u001b[0m",
      "\u001b[1;31mUndefinedTable\u001b[0m                            Traceback (most recent call last)",
      "File \u001b[1;32mc:\\Users\\Mohammed\\AppData\\Local\\Programs\\Python\\Python311\\Lib\\site-packages\\pandas\\io\\sql.py:2018\u001b[0m, in \u001b[0;36mSQLiteDatabase.execute\u001b[1;34m(self, *args, **kwargs)\u001b[0m\n\u001b[0;32m   2017\u001b[0m \u001b[38;5;28;01mtry\u001b[39;00m:\n\u001b[1;32m-> 2018\u001b[0m     \u001b[43mcur\u001b[49m\u001b[38;5;241;43m.\u001b[39;49m\u001b[43mexecute\u001b[49m\u001b[43m(\u001b[49m\u001b[38;5;241;43m*\u001b[39;49m\u001b[43margs\u001b[49m\u001b[43m,\u001b[49m\u001b[43m \u001b[49m\u001b[38;5;241;43m*\u001b[39;49m\u001b[38;5;241;43m*\u001b[39;49m\u001b[43mkwargs\u001b[49m\u001b[43m)\u001b[49m\n\u001b[0;32m   2019\u001b[0m     \u001b[38;5;28;01mreturn\u001b[39;00m cur\n",
      "\u001b[1;31mUndefinedTable\u001b[0m: relation \"retail_cleaned\" does not exist\nLINE 1: select * from retail_cleaned\n                      ^\n",
      "\nThe above exception was the direct cause of the following exception:\n",
      "\u001b[1;31mDatabaseError\u001b[0m                             Traceback (most recent call last)",
      "Cell \u001b[1;32mIn[6], line 2\u001b[0m\n\u001b[0;32m      1\u001b[0m \u001b[38;5;66;03m# cleaned_df_new= pd.read_csv(r'C:\\Users\\Mohammed\\Desktop\\retail-DWH\\data\\online_retail_2.csv')\u001b[39;00m\n\u001b[1;32m----> 2\u001b[0m cleaned_df_new\u001b[38;5;241m=\u001b[39m \u001b[43mpd\u001b[49m\u001b[38;5;241;43m.\u001b[39;49m\u001b[43mread_sql\u001b[49m\u001b[43m(\u001b[49m\u001b[38;5;124;43m'\u001b[39;49m\u001b[38;5;124;43mselect * from retail_cleaned\u001b[39;49m\u001b[38;5;124;43m'\u001b[39;49m\u001b[43m,\u001b[49m\u001b[43m \u001b[49m\u001b[43mcon\u001b[49m\u001b[38;5;241;43m=\u001b[39;49m\u001b[43mdb_engine\u001b[49m\u001b[43m)\u001b[49m\n\u001b[0;32m      3\u001b[0m cleaned_df_new\u001b[38;5;241m.\u001b[39mcolumns\u001b[38;5;241m=\u001b[39m cleaned_df_new\u001b[38;5;241m.\u001b[39mcolumns\u001b[38;5;241m.\u001b[39mstr\u001b[38;5;241m.\u001b[39mlower()\n\u001b[0;32m      4\u001b[0m cleaned_df_new\u001b[38;5;241m.\u001b[39mhead()\n",
      "File \u001b[1;32mc:\\Users\\Mohammed\\AppData\\Local\\Programs\\Python\\Python311\\Lib\\site-packages\\pandas\\io\\sql.py:564\u001b[0m, in \u001b[0;36mread_sql\u001b[1;34m(sql, con, index_col, coerce_float, params, parse_dates, columns, chunksize)\u001b[0m\n\u001b[0;32m    561\u001b[0m pandas_sql \u001b[38;5;241m=\u001b[39m pandasSQL_builder(con)\n\u001b[0;32m    563\u001b[0m \u001b[38;5;28;01mif\u001b[39;00m \u001b[38;5;28misinstance\u001b[39m(pandas_sql, SQLiteDatabase):\n\u001b[1;32m--> 564\u001b[0m     \u001b[38;5;28;01mreturn\u001b[39;00m \u001b[43mpandas_sql\u001b[49m\u001b[38;5;241;43m.\u001b[39;49m\u001b[43mread_query\u001b[49m\u001b[43m(\u001b[49m\n\u001b[0;32m    565\u001b[0m \u001b[43m        \u001b[49m\u001b[43msql\u001b[49m\u001b[43m,\u001b[49m\n\u001b[0;32m    566\u001b[0m \u001b[43m        \u001b[49m\u001b[43mindex_col\u001b[49m\u001b[38;5;241;43m=\u001b[39;49m\u001b[43mindex_col\u001b[49m\u001b[43m,\u001b[49m\n\u001b[0;32m    567\u001b[0m \u001b[43m        \u001b[49m\u001b[43mparams\u001b[49m\u001b[38;5;241;43m=\u001b[39;49m\u001b[43mparams\u001b[49m\u001b[43m,\u001b[49m\n\u001b[0;32m    568\u001b[0m \u001b[43m        \u001b[49m\u001b[43mcoerce_float\u001b[49m\u001b[38;5;241;43m=\u001b[39;49m\u001b[43mcoerce_float\u001b[49m\u001b[43m,\u001b[49m\n\u001b[0;32m    569\u001b[0m \u001b[43m        \u001b[49m\u001b[43mparse_dates\u001b[49m\u001b[38;5;241;43m=\u001b[39;49m\u001b[43mparse_dates\u001b[49m\u001b[43m,\u001b[49m\n\u001b[0;32m    570\u001b[0m \u001b[43m        \u001b[49m\u001b[43mchunksize\u001b[49m\u001b[38;5;241;43m=\u001b[39;49m\u001b[43mchunksize\u001b[49m\u001b[43m,\u001b[49m\n\u001b[0;32m    571\u001b[0m \u001b[43m    \u001b[49m\u001b[43m)\u001b[49m\n\u001b[0;32m    573\u001b[0m \u001b[38;5;28;01mtry\u001b[39;00m:\n\u001b[0;32m    574\u001b[0m     _is_table_name \u001b[38;5;241m=\u001b[39m pandas_sql\u001b[38;5;241m.\u001b[39mhas_table(sql)\n",
      "File \u001b[1;32mc:\\Users\\Mohammed\\AppData\\Local\\Programs\\Python\\Python311\\Lib\\site-packages\\pandas\\io\\sql.py:2078\u001b[0m, in \u001b[0;36mSQLiteDatabase.read_query\u001b[1;34m(self, sql, index_col, coerce_float, params, parse_dates, chunksize, dtype)\u001b[0m\n\u001b[0;32m   2066\u001b[0m \u001b[38;5;28;01mdef\u001b[39;00m \u001b[38;5;21mread_query\u001b[39m(\n\u001b[0;32m   2067\u001b[0m     \u001b[38;5;28mself\u001b[39m,\n\u001b[0;32m   2068\u001b[0m     sql,\n\u001b[1;32m   (...)\u001b[0m\n\u001b[0;32m   2074\u001b[0m     dtype: DtypeArg \u001b[38;5;241m|\u001b[39m \u001b[38;5;28;01mNone\u001b[39;00m \u001b[38;5;241m=\u001b[39m \u001b[38;5;28;01mNone\u001b[39;00m,\n\u001b[0;32m   2075\u001b[0m ) \u001b[38;5;241m-\u001b[39m\u001b[38;5;241m>\u001b[39m DataFrame \u001b[38;5;241m|\u001b[39m Iterator[DataFrame]:\n\u001b[0;32m   2077\u001b[0m     args \u001b[38;5;241m=\u001b[39m _convert_params(sql, params)\n\u001b[1;32m-> 2078\u001b[0m     cursor \u001b[38;5;241m=\u001b[39m \u001b[38;5;28;43mself\u001b[39;49m\u001b[38;5;241;43m.\u001b[39;49m\u001b[43mexecute\u001b[49m\u001b[43m(\u001b[49m\u001b[38;5;241;43m*\u001b[39;49m\u001b[43margs\u001b[49m\u001b[43m)\u001b[49m\n\u001b[0;32m   2079\u001b[0m     columns \u001b[38;5;241m=\u001b[39m [col_desc[\u001b[38;5;241m0\u001b[39m] \u001b[38;5;28;01mfor\u001b[39;00m col_desc \u001b[38;5;129;01min\u001b[39;00m cursor\u001b[38;5;241m.\u001b[39mdescription]\n\u001b[0;32m   2081\u001b[0m     \u001b[38;5;28;01mif\u001b[39;00m chunksize \u001b[38;5;129;01mis\u001b[39;00m \u001b[38;5;129;01mnot\u001b[39;00m \u001b[38;5;28;01mNone\u001b[39;00m:\n",
      "File \u001b[1;32mc:\\Users\\Mohammed\\AppData\\Local\\Programs\\Python\\Python311\\Lib\\site-packages\\pandas\\io\\sql.py:2030\u001b[0m, in \u001b[0;36mSQLiteDatabase.execute\u001b[1;34m(self, *args, **kwargs)\u001b[0m\n\u001b[0;32m   2027\u001b[0m     \u001b[38;5;28;01mraise\u001b[39;00m ex \u001b[38;5;28;01mfrom\u001b[39;00m \u001b[38;5;21;01minner_exc\u001b[39;00m\n\u001b[0;32m   2029\u001b[0m ex \u001b[38;5;241m=\u001b[39m DatabaseError(\u001b[38;5;124mf\u001b[39m\u001b[38;5;124m\"\u001b[39m\u001b[38;5;124mExecution failed on sql \u001b[39m\u001b[38;5;124m'\u001b[39m\u001b[38;5;132;01m{\u001b[39;00margs[\u001b[38;5;241m0\u001b[39m]\u001b[38;5;132;01m}\u001b[39;00m\u001b[38;5;124m'\u001b[39m\u001b[38;5;124m: \u001b[39m\u001b[38;5;132;01m{\u001b[39;00mexc\u001b[38;5;132;01m}\u001b[39;00m\u001b[38;5;124m\"\u001b[39m)\n\u001b[1;32m-> 2030\u001b[0m \u001b[38;5;28;01mraise\u001b[39;00m ex \u001b[38;5;28;01mfrom\u001b[39;00m \u001b[38;5;21;01mexc\u001b[39;00m\n",
      "\u001b[1;31mDatabaseError\u001b[0m: Execution failed on sql 'select * from retail_cleaned': relation \"retail_cleaned\" does not exist\nLINE 1: select * from retail_cleaned\n                      ^\n"
     ]
    }
   ],
   "source": [
    "# cleaned_df_new= pd.read_csv(r'C:\\Users\\Mohammed\\Desktop\\retail-DWH\\data\\online_retail_2.csv')\n",
    "cleaned_df_new= pd.read_sql('select * from retail_cleaned', con=db_engine)\n",
    "cleaned_df_new.columns= cleaned_df_new.columns.str.lower()\n",
    "cleaned_df_new.head()\n"
   ]
  },
  {
   "cell_type": "code",
   "execution_count": null,
   "metadata": {},
   "outputs": [
    {
     "name": "stdout",
     "output_type": "stream",
     "text": [
      "dimproduct table updated successfully.\n",
      "  stockcode                          description\n",
      "0     22632            HAND WARMER RED POLKA DOT\n",
      "1     22633               HAND WARMER UNION JACK\n",
      "2    85123A   WHITE HANGING HEART T-LIGHT HOLDER\n",
      "3     71053                  WHITE METAL LANTERN\n",
      "4    84406B       CREAM CUPID HEARTS COAT HANGER\n",
      "5    84029G  KNITTED UNION FLAG HOT WATER BOTTLE\n",
      "6    84029E       RED WOOLLY HOTTIE WHITE HEART.\n",
      "7     22752         SET 7 BABUSHKA NESTING BOXES\n",
      "8     21730    GLASS STAR FROSTED T-LIGHT HOLDER\n"
     ]
    },
    {
     "name": "stderr",
     "output_type": "stream",
     "text": [
      "C:\\Users\\Mohammed\\AppData\\Local\\Temp\\ipykernel_9912\\410505756.py:4: UserWarning: pandas only supports SQLAlchemy connectable (engine/connection) or database string URI or sqlite3 DBAPI2 connection. Other DBAPI2 objects are not tested. Please consider using SQLAlchemy.\n",
      "  old_df = pd.read_sql('SELECT * FROM dimproduct', engine)\n"
     ]
    }
   ],
   "source": [
    "def dimproduct_update(new_df=cleaned_df_new, engine=db_engine):\n",
    "    new_df['stockcode'] = new_df['stockcode'].astype(str)\n",
    "    \n",
    "    old_df = pd.read_sql('SELECT * FROM dimproduct', engine)\n",
    "    old_stockcode = set(old_df['stockcode'])\n",
    "    \n",
    "    updated_records = new_df[new_df['stockcode'].isin(old_stockcode)]\n",
    "\n",
    "    if not updated_records.empty:\n",
    "        updated_records = updated_records[['stockcode', 'description']]\\\n",
    "            .drop_duplicates(subset=['stockcode', 'description'])\\\n",
    "            .reset_index(drop=True)\n",
    "        \n",
    "        with engine.cursor() as cursor:\n",
    "            for index, row in updated_records.iterrows():\n",
    "                update_stmt = \"\"\"\n",
    "                    UPDATE dimproduct\n",
    "                    SET description = %s\n",
    "                    WHERE stockcode = %s\n",
    "                \"\"\"\n",
    "                cursor.execute(update_stmt, (row[\"description\"], row[\"stockcode\"]))\n",
    "        \n",
    "        engine.commit()\n",
    "        print(\"dimproduct table updated successfully.\")\n",
    "        print(updated_records)\n",
    "    else:\n",
    "        print(\"No records to update.\")\n",
    "        \n",
    "dimproduct_update()\n"
   ]
  },
  {
   "cell_type": "code",
   "execution_count": null,
   "metadata": {},
   "outputs": [
    {
     "name": "stdout",
     "output_type": "stream",
     "text": [
      "1055\n",
      "There aren't new data to be inserted.\n"
     ]
    },
    {
     "name": "stderr",
     "output_type": "stream",
     "text": [
      "C:\\Users\\Mohammed\\AppData\\Local\\Temp\\ipykernel_16656\\191617142.py:8: UserWarning: pandas only supports SQLAlchemy connectable (engine/connection) or database string URI or sqlite3 DBAPI2 connection. Other DBAPI2 objects are not tested. Please consider using SQLAlchemy.\n",
      "  old_df= pd.read_sql(query, engine)\n",
      "C:\\Users\\Mohammed\\AppData\\Local\\Temp\\ipykernel_16656\\191617142.py:16: UserWarning: pandas only supports SQLAlchemy connectable (engine/connection) or database string URI or sqlite3 DBAPI2 connection. Other DBAPI2 objects are not tested. Please consider using SQLAlchemy.\n",
      "  maxid_df= pd.read_sql(max_productid, engine)\n"
     ]
    }
   ],
   "source": [
    "def dimproduct_insert(new_df=cleaned_df_new, engine=db_engine):\n",
    "    new_df['stockcode']= new_df['stockcode'].astype(str)\n",
    "    \n",
    "    query='''\n",
    "        select * from dimproduct\n",
    "    '''\n",
    "    \n",
    "    old_df= pd.read_sql(query, engine)\n",
    "    old_stockcode= list(old_df['stockcode'])\n",
    "    \n",
    "    new_records= new_df[~new_df['stockcode'].isin(old_stockcode)]\n",
    "\n",
    "    \n",
    "    \n",
    "    #insert new records \n",
    "    if not new_records.empty:\n",
    "        new_records= new_records[['stockcode', 'description']]\\\n",
    "        .drop_duplicates(subset=['stockcode', 'description'])\\\n",
    "        .reset_index(drop=True)\n",
    "        \n",
    "        new_records['productid']= range(maxid+1, len(new_records)+maxid+1, 1)\n",
    "        new_records['name']= 'Product-'+new_records['stockcode']\n",
    "        print(\"data that will be inserted\")\n",
    "        print(new_records)\n",
    "        print(new_records.dtypes)\n",
    "        new_records= new_records.set_index('stockcode')\n",
    "        try:\n",
    "            new_records.to_sql(name='dimproduct', con=db_conn, if_exists='append', index=True, index_label='stockcode')\n",
    "            print(\"insertion Of New Records done.\")\n",
    "        except Exception as e:\n",
    "            print('Got error in insertion.', e)\n",
    "    else:\n",
    "        print(\"There aren't new data to be inserted.\")\n",
    "dimproduct_insert()"
   ]
  },
  {
   "cell_type": "code",
   "execution_count": null,
   "metadata": {},
   "outputs": [
    {
     "name": "stdout",
     "output_type": "stream",
     "text": [
      "    id  invoiceno stockcode                          description  quantity  \\\n",
      "21  21     536372     22632            HAND WARMER RED POLKA DOT         6   \n",
      "22  22     536372     22633               HAND WARMER UNION JACK         6   \n",
      "23  23     536373    85123A   WHITE HANGING HEART T-LIGHT HOLDER         6   \n",
      "24  24     536373     71053                  WHITE METAL LANTERN         6   \n",
      "25  25     536373    84406B       CREAM CUPID HEARTS COAT HANGER         8   \n",
      "26  26     536373     20679                EDWARDIAN PARASOL RED         6   \n",
      "27  27     536373     37370           RETRO COFFEE MUGS ASSORTED         6   \n",
      "28  28     536373     21871                  SAVE THE PLANET MUG         6   \n",
      "29  29     536373     21071       VINTAGE BILLBOARD DRINK ME MUG         6   \n",
      "30  30     536373     21068      VINTAGE BILLBOARD LOVE/HATE MUG         6   \n",
      "31  31     536373     82483   WOOD 2 DRAWER CABINET WHITE FINISH         2   \n",
      "32  32     536373     82486    WOOD S/3 CABINET ANT WHITE FINISH         4   \n",
      "33  33     536373     82482    WOODEN PICTURE FRAME WHITE FINISH         6   \n",
      "34  34     536373    82494L          WOODEN FRAME ANTIQUE WHITE          6   \n",
      "35  35     536373    84029G  KNITTED UNION FLAG HOT WATER BOTTLE         6   \n",
      "36  36     536373    84029E       RED WOOLLY HOTTIE WHITE HEART.         6   \n",
      "37  37     536373     22752         SET 7 BABUSHKA NESTING BOXES         2   \n",
      "38  38     536373     21730    GLASS STAR FROSTED T-LIGHT HOLDER         6   \n",
      "39  39   53637323    345554    GLASS STAR FROSTED T-LIGHT HOLDER         6   \n",
      "40  40   23536373     34555    GLASS STAR FROSTED T-LIGHT HOLDER         6   \n",
      "41  41   23536373     45643    GLASS STAR FROSTED T-LIGHT HOLDER         6   \n",
      "42  42     536373     56456         SET 7 BABUSHKA NESTING BOXES         2   \n",
      "43  43     536373     45654    GLASS STAR FROSTED T-LIGHT HOLDER         6   \n",
      "44  44   53637323     45654    GLASS STAR FROSTED T-LIGHT HOLDER         6   \n",
      "\n",
      "           invoicedate  unitprice  customerid         country  \\\n",
      "21 2010-12-01 09:01:00       1.85       17850  United Kingdom   \n",
      "22 2010-12-01 09:01:00       1.85       17850  United Kingdom   \n",
      "23 2010-12-01 09:02:00       2.55       17850  United Kingdom   \n",
      "24 2010-12-01 09:02:00       3.39       17850  United Kingdom   \n",
      "25 2010-12-01 09:02:00       2.75       17850  United Kingdom   \n",
      "26 2010-12-01 09:02:00       4.95       17850  United Kingdom   \n",
      "27 2010-12-01 09:02:00       1.06       17850  United Kingdom   \n",
      "28 2010-12-01 09:02:00       1.06       17850  United Kingdom   \n",
      "29 2010-12-01 09:02:00       1.06       17850  United Kingdom   \n",
      "30 2010-12-01 09:02:00       1.06       17850  United Kingdom   \n",
      "31 2010-12-01 09:02:00       4.95       17850  United Kingdom   \n",
      "32 2010-12-01 09:02:00       6.95       17850  United Kingdom   \n",
      "33 2010-12-01 09:02:00       2.10       17850  United Kingdom   \n",
      "34 2010-12-01 09:02:00       2.55       17850  United Kingdom   \n",
      "35 2010-12-01 09:02:00       3.39       17850  United Kingdom   \n",
      "36 2010-12-01 09:02:00       3.39       17850  United Kingdom   \n",
      "37 2010-12-01 09:02:00       7.65       17850  United Kingdom   \n",
      "38 2010-12-01 09:02:00       4.25       17850  United Kingdom   \n",
      "39 2010-12-01 09:02:00       4.25       17850  United Kingdom   \n",
      "40 2010-12-01 09:02:00       4.25       17850  United Kingdom   \n",
      "41 2010-12-01 09:02:00       4.25       17850  United Kingdom   \n",
      "42 2010-12-01 09:02:00       7.65       17850  United Kingdom   \n",
      "43 2010-12-01 09:02:00       4.25       17850  United Kingdom   \n",
      "44 2010-12-01 09:02:00       4.25       17850  United Kingdom   \n",
      "\n",
      "               saleskey  \n",
      "21   178502263220101201  \n",
      "22   178502263320101201  \n",
      "23  1785085123A20101201  \n",
      "24   178507105320101201  \n",
      "25  1785084406B20101201  \n",
      "26   178502067920101201  \n",
      "27   178503737020101201  \n",
      "28   178502187120101201  \n",
      "29   178502107120101201  \n",
      "30   178502106820101201  \n",
      "31   178508248320101201  \n",
      "32   178508248620101201  \n",
      "33   178508248220101201  \n",
      "34  1785082494L20101201  \n",
      "35  1785084029G20101201  \n",
      "36  1785084029E20101201  \n",
      "37   178502275220101201  \n",
      "38   178502173020101201  \n",
      "39  1785034555420101201  \n",
      "40   178503455520101201  \n",
      "41   178504564320101201  \n",
      "42   178505645620101201  \n",
      "43   178504565420101201  \n",
      "44   178504565420101201  \n"
     ]
    },
    {
     "name": "stderr",
     "output_type": "stream",
     "text": [
      "C:\\Users\\Mohammed\\AppData\\Local\\Temp\\ipykernel_9912\\1279280203.py:8: UserWarning: pandas only supports SQLAlchemy connectable (engine/connection) or database string URI or sqlite3 DBAPI2 connection. Other DBAPI2 objects are not tested. Please consider using SQLAlchemy.\n",
      "  old_df= pd.read_sql(query, db_engine)\n"
     ]
    }
   ],
   "source": [
    "def dimcustomer_update(new_df=cleaned_df_new, engine=db_engine):\n",
    "\n",
    "    new_df.columns= new_df.columns.str.lower()\n",
    "    \n",
    "    query=\"\"\"\n",
    "        select customerid from dimcustomer;\n",
    "    \"\"\"\n",
    "    old_df= pd.read_sql(query, db_engine)\n",
    "    old_ids= list(old_df['customerid'])\n",
    "    \n",
    "    updated_records= new_df[new_df['customerid'].isin(old_ids)]\n",
    "    \n",
    "    print(updated_records)\n",
    "    if not updated_records.empty:\n",
    "        with engine.cursor() as cursor:\n",
    "            for index, row in updated_records.iterrows():\n",
    "                update_statment='''\n",
    "                    UPDATE dimcustomer\n",
    "                    SET country= %s\n",
    "                    WHERE customerid= %s\n",
    "                '''\n",
    "                cursor.execute(update_statment, (row['country'], row['customerid']))\n",
    "        engine.commit()    \n",
    "dimcustomer_update()"
   ]
  },
  {
   "cell_type": "code",
   "execution_count": null,
   "metadata": {},
   "outputs": [
    {
     "name": "stdout",
     "output_type": "stream",
     "text": [
      "                   country           name\n",
      "customerid                               \n",
      "12583                Egypt  Customer12583\n",
      "13748       United Kingdom  Customer13748\n",
      "99999                Egypt  Customer99999\n",
      "88888                Egypt  Customer88888\n",
      "77777                Egypt  Customer77777\n",
      "DimCustomer data inserted successfully...\n",
      "                   country           name\n",
      "customerid                               \n",
      "12583                Egypt  Customer12583\n",
      "13748       United Kingdom  Customer13748\n",
      "99999                Egypt  Customer99999\n",
      "88888                Egypt  Customer88888\n",
      "77777                Egypt  Customer77777\n"
     ]
    },
    {
     "name": "stderr",
     "output_type": "stream",
     "text": [
      "C:\\Users\\Mohammed\\AppData\\Local\\Temp\\ipykernel_16660\\1615697583.py:7: UserWarning: pandas only supports SQLAlchemy connectable (engine/connection) or database string URI or sqlite3 DBAPI2 connection. Other DBAPI2 objects are not tested. Please consider using SQLAlchemy.\n",
      "  old_df= pd.read_sql(query, db_engine)\n"
     ]
    }
   ],
   "source": [
    "def dimcustomer_insert(new_df=cleaned_df_new, engine=db_conn):\n",
    "    new_df.columns= new_df.columns.str.lower()\n",
    "    \n",
    "    query=\"\"\"\n",
    "        select customerid from dimcustomer;\n",
    "    \"\"\"\n",
    "    old_df= pd.read_sql(query, db_engine)\n",
    "    old_ids= list(old_df['customerid'])\n",
    "    \n",
    "    new_records= new_df[~new_df['customerid'].isin(old_ids)]\n",
    "    if not new_records.empty:\n",
    "        new_records = new_records[['customerid', 'country']].copy()\n",
    "        new_records['name'] = 'Customer' + new_records['customerid'].astype(str)\n",
    "        new_records= new_records.reset_index(drop=True)\n",
    "        new_records= new_records.drop_duplicates('customerid').set_index('customerid')\n",
    "        print(new_records)\n",
    "     \n",
    "        new_records.to_sql(name='dimcustomer', con=engine, if_exists='append', index=True, index_label='customerid')\n",
    "        print(\"DimCustomer data inserted successfully...\")\n",
    "        print(new_records)\n",
    "        # except Exception as e:\n",
    "        #     print(\"Got problem in the insertion of DimCustomer\",e)\n",
    "    else:\n",
    "        print('there is not new data to insert')\n",
    "\n",
    "dimcustomer_insert()"
   ]
  },
  {
   "cell_type": "code",
   "execution_count": null,
   "metadata": {},
   "outputs": [
    {
     "name": "stderr",
     "output_type": "stream",
     "text": [
      "C:\\Users\\Mohammed\\AppData\\Local\\Temp\\ipykernel_16660\\2950772273.py:6: UserWarning: pandas only supports SQLAlchemy connectable (engine/connection) or database string URI or sqlite3 DBAPI2 connection. Other DBAPI2 objects are not tested. Please consider using SQLAlchemy.\n",
      "  old_max_date_df= pd.read_sql(query, engine).copy()\n"
     ]
    },
    {
     "name": "stdout",
     "output_type": "stream",
     "text": [
      "new is greater create a range\n",
      "2010-12-01 08:27:00 2013-12-01 08:45:00\n",
      "invoicedate    datetime64[ns]\n",
      "date                   object\n",
      "year                   object\n",
      "monthno                object\n",
      "monthname              object\n",
      "day                    object\n",
      "quarter                 int64\n",
      "dtype: object\n"
     ]
    }
   ],
   "source": [
    "def dimdate_insert(cleanedDF=cleaned_df_new, db_connection= ):\n",
    "    query=\"\"\"\n",
    "        select max(invoicedate) as max_date from dimdate\n",
    "    \"\"\"\n",
    "    \n",
    "    old_max_date_df= pd.read_sql(query, engine).copy()\n",
    "    old_max_date= old_max_date_df['max_date'].iloc[0]\n",
    "    cleanedDF['invoicedate']= pd.to_datetime(cleanedDF['invoicedate'])\n",
    "    new_max_date= cleanedDF['invoicedate'].max()\n",
    "    if new_max_date> old_max_date:\n",
    "        print(\"new is greater create a range\")\n",
    "        start_range= old_max_date+ pd.Timedelta(minutes=1)\n",
    "        end_range= new_max_date\n",
    "        print(start_range, end_range)\n",
    "        Dimdate = pd.DataFrame({'InvoiceDate': pd.date_range(start=start_range, end=end_range, freq='D')})\n",
    "        Dimdate['DateKey'] = Dimdate['InvoiceDate']\n",
    "        Dimdate['Date'] = Dimdate['InvoiceDate'].dt.strftime('%Y-%m-%d')\n",
    "        Dimdate['Year']= Dimdate['InvoiceDate'].dt.strftime('%Y')\n",
    "        Dimdate['MonthNo']= Dimdate['InvoiceDate'].dt.strftime('%m')\n",
    "        Dimdate['MonthName']= Dimdate['InvoiceDate'].dt.strftime('%B')\n",
    "        Dimdate['Day']= Dimdate['InvoiceDate'].dt.strftime('%d')\n",
    "        Dimdate['quarter']= Dimdate['InvoiceDate'].dt.quarter\n",
    "        Dimdate.columns= Dimdate.columns.str.lower()\n",
    "        Dimdate= Dimdate.reset_index(drop=True).set_index('datekey')\n",
    "        print(Dimdate.dtypes)\n",
    "        Dimdate.to_sql(name='dimdate', con=db_connection ,if_exists='append', index=True, index_label='datekey')\n",
    "    else:\n",
    "        print(\"no updates in date\")\n",
    "        \n",
    "\n",
    "dimdate_insert()"
   ]
  },
  {
   "cell_type": "code",
   "execution_count": null,
   "metadata": {},
   "outputs": [
    {
     "name": "stderr",
     "output_type": "stream",
     "text": [
      "C:\\Users\\Mohammed\\AppData\\Local\\Temp\\ipykernel_16660\\3601415959.py:17: UserWarning: pandas only supports SQLAlchemy connectable (engine/connection) or database string URI or sqlite3 DBAPI2 connection. Other DBAPI2 objects are not tested. Please consider using SQLAlchemy.\n",
      "  insert_fact= pd.read_sql(clened_data, con=db_engine)\n"
     ]
    },
    {
     "data": {
      "text/html": [
       "<div>\n",
       "<style scoped>\n",
       "    .dataframe tbody tr th:only-of-type {\n",
       "        vertical-align: middle;\n",
       "    }\n",
       "\n",
       "    .dataframe tbody tr th {\n",
       "        vertical-align: top;\n",
       "    }\n",
       "\n",
       "    .dataframe thead th {\n",
       "        text-align: right;\n",
       "    }\n",
       "</style>\n",
       "<table border=\"1\" class=\"dataframe\">\n",
       "  <thead>\n",
       "    <tr style=\"text-align: right;\">\n",
       "      <th></th>\n",
       "      <th>saleskey</th>\n",
       "      <th>invoiceno</th>\n",
       "      <th>datekey</th>\n",
       "      <th>customerkey</th>\n",
       "      <th>productkey</th>\n",
       "      <th>unitprice</th>\n",
       "      <th>quantity</th>\n",
       "    </tr>\n",
       "  </thead>\n",
       "  <tbody>\n",
       "    <tr>\n",
       "      <th>0</th>\n",
       "      <td>125832272820101201</td>\n",
       "      <td>536370</td>\n",
       "      <td>2010-12-01 08:45:00</td>\n",
       "      <td>12583</td>\n",
       "      <td>22728</td>\n",
       "      <td>3.75</td>\n",
       "      <td>24</td>\n",
       "    </tr>\n",
       "    <tr>\n",
       "      <th>1</th>\n",
       "      <td>125832272720101201</td>\n",
       "      <td>536370</td>\n",
       "      <td>2010-12-01 08:45:00</td>\n",
       "      <td>12583</td>\n",
       "      <td>22727</td>\n",
       "      <td>3.75</td>\n",
       "      <td>24</td>\n",
       "    </tr>\n",
       "    <tr>\n",
       "      <th>2</th>\n",
       "      <td>125832272620101201</td>\n",
       "      <td>536370</td>\n",
       "      <td>2010-12-01 08:45:00</td>\n",
       "      <td>12583</td>\n",
       "      <td>22726</td>\n",
       "      <td>3.75</td>\n",
       "      <td>12</td>\n",
       "    </tr>\n",
       "    <tr>\n",
       "      <th>3</th>\n",
       "      <td>125832172420101201</td>\n",
       "      <td>536370</td>\n",
       "      <td>2010-12-01 08:45:00</td>\n",
       "      <td>12583</td>\n",
       "      <td>21724</td>\n",
       "      <td>0.85</td>\n",
       "      <td>12</td>\n",
       "    </tr>\n",
       "    <tr>\n",
       "      <th>4</th>\n",
       "      <td>125832188320101201</td>\n",
       "      <td>536370</td>\n",
       "      <td>2010-12-01 08:45:00</td>\n",
       "      <td>12583</td>\n",
       "      <td>21883</td>\n",
       "      <td>0.65</td>\n",
       "      <td>24</td>\n",
       "    </tr>\n",
       "  </tbody>\n",
       "</table>\n",
       "</div>"
      ],
      "text/plain": [
       "             saleskey  invoiceno             datekey  customerkey productkey  \\\n",
       "0  125832272820101201     536370 2010-12-01 08:45:00        12583      22728   \n",
       "1  125832272720101201     536370 2010-12-01 08:45:00        12583      22727   \n",
       "2  125832272620101201     536370 2010-12-01 08:45:00        12583      22726   \n",
       "3  125832172420101201     536370 2010-12-01 08:45:00        12583      21724   \n",
       "4  125832188320101201     536370 2010-12-01 08:45:00        12583      21883   \n",
       "\n",
       "   unitprice  quantity  \n",
       "0       3.75        24  \n",
       "1       3.75        24  \n",
       "2       3.75        12  \n",
       "3       0.85        12  \n",
       "4       0.65        24  "
      ]
     },
     "execution_count": 27,
     "metadata": {},
     "output_type": "execute_result"
    }
   ],
   "source": [
    "# saleskey| invoiceno | datekey | customerkey | productkey | unitprice | quantity\n",
    "clened_data= \"\"\"\n",
    "    SELECT c.saleskey,\n",
    "        c.invoiceno,\n",
    "        c.invoicedate as datekey,\n",
    "        c.customerid as customerkey,\n",
    "        c.stockcode as productkey,\n",
    "        c.unitprice,\n",
    "        c.quantity \n",
    "    FROM retail_cleaned c INNER JOIN dimproduct p\n",
    "    ON c.stockcode= p.stockcode\n",
    "    AND c.description = p.description\n",
    "\n",
    "    INNER JOIN dimcustomer cust \n",
    "    ON c.customerid= cust.customerid\n",
    "\"\"\"\n",
    "insert_fact= pd.read_sql(clened_data, con=db_engine)\n",
    "insert_fact.head()"
   ]
  },
  {
   "cell_type": "code",
   "execution_count": null,
   "metadata": {},
   "outputs": [
    {
     "data": {
      "text/plain": [
       "53"
      ]
     },
     "execution_count": 23,
     "metadata": {},
     "output_type": "execute_result"
    }
   ],
   "source": [
    "insert_fact['invoiceno'].count()"
   ]
  },
  {
   "cell_type": "code",
   "execution_count": null,
   "metadata": {},
   "outputs": [
    {
     "name": "stderr",
     "output_type": "stream",
     "text": [
      "C:\\Users\\Mohammed\\AppData\\Local\\Temp\\ipykernel_16660\\992800974.py:1: UserWarning: pandas only supports SQLAlchemy connectable (engine/connection) or database string URI or sqlite3 DBAPI2 connection. Other DBAPI2 objects are not tested. Please consider using SQLAlchemy.\n",
      "  old_fact= pd.read_sql('select * from fact_sales', con=db_engine)\n"
     ]
    }
   ],
   "source": [
    "old_fact= pd.read_sql('select * from fact_sales', con=db_engine)"
   ]
  },
  {
   "cell_type": "code",
   "execution_count": null,
   "metadata": {},
   "outputs": [
    {
     "data": {
      "text/plain": [
       "21"
      ]
     },
     "execution_count": 28,
     "metadata": {},
     "output_type": "execute_result"
    }
   ],
   "source": [
    "old_fact['customerkey'].count()"
   ]
  },
  {
   "cell_type": "code",
   "execution_count": null,
   "metadata": {},
   "outputs": [
    {
     "name": "stderr",
     "output_type": "stream",
     "text": [
      "C:\\Users\\Mohammed\\AppData\\Local\\Temp\\ipykernel_16660\\4121976351.py:1: FutureWarning: The frame.append method is deprecated and will be removed from pandas in a future version. Use pandas.concat instead.\n",
      "  df= insert_fact.append(old_fact)\n"
     ]
    }
   ],
   "source": [
    "df= insert_fact.append(old_fact)"
   ]
  },
  {
   "cell_type": "code",
   "execution_count": null,
   "metadata": {},
   "outputs": [
    {
     "data": {
      "text/html": [
       "<div>\n",
       "<style scoped>\n",
       "    .dataframe tbody tr th:only-of-type {\n",
       "        vertical-align: middle;\n",
       "    }\n",
       "\n",
       "    .dataframe tbody tr th {\n",
       "        vertical-align: top;\n",
       "    }\n",
       "\n",
       "    .dataframe thead th {\n",
       "        text-align: right;\n",
       "    }\n",
       "</style>\n",
       "<table border=\"1\" class=\"dataframe\">\n",
       "  <thead>\n",
       "    <tr style=\"text-align: right;\">\n",
       "      <th></th>\n",
       "      <th>saleskey</th>\n",
       "      <th>invoiceno</th>\n",
       "      <th>datekey</th>\n",
       "      <th>customerkey</th>\n",
       "      <th>productkey</th>\n",
       "      <th>unitprice</th>\n",
       "      <th>quantity</th>\n",
       "    </tr>\n",
       "  </thead>\n",
       "  <tbody>\n",
       "    <tr>\n",
       "      <th>0</th>\n",
       "      <td>125832272820101201</td>\n",
       "      <td>536370</td>\n",
       "      <td>2010-12-01 08:45:00</td>\n",
       "      <td>12583</td>\n",
       "      <td>22728</td>\n",
       "      <td>3.75</td>\n",
       "      <td>24</td>\n",
       "    </tr>\n",
       "    <tr>\n",
       "      <th>1</th>\n",
       "      <td>125832272720101201</td>\n",
       "      <td>536370</td>\n",
       "      <td>2010-12-01 08:45:00</td>\n",
       "      <td>12583</td>\n",
       "      <td>22727</td>\n",
       "      <td>3.75</td>\n",
       "      <td>24</td>\n",
       "    </tr>\n",
       "    <tr>\n",
       "      <th>2</th>\n",
       "      <td>125832272620101201</td>\n",
       "      <td>536370</td>\n",
       "      <td>2010-12-01 08:45:00</td>\n",
       "      <td>12583</td>\n",
       "      <td>22726</td>\n",
       "      <td>3.75</td>\n",
       "      <td>12</td>\n",
       "    </tr>\n",
       "    <tr>\n",
       "      <th>3</th>\n",
       "      <td>125832172420101201</td>\n",
       "      <td>536370</td>\n",
       "      <td>2010-12-01 08:45:00</td>\n",
       "      <td>12583</td>\n",
       "      <td>21724</td>\n",
       "      <td>0.85</td>\n",
       "      <td>12</td>\n",
       "    </tr>\n",
       "    <tr>\n",
       "      <th>4</th>\n",
       "      <td>125832188320101201</td>\n",
       "      <td>536370</td>\n",
       "      <td>2010-12-01 08:45:00</td>\n",
       "      <td>12583</td>\n",
       "      <td>21883</td>\n",
       "      <td>0.65</td>\n",
       "      <td>24</td>\n",
       "    </tr>\n",
       "  </tbody>\n",
       "</table>\n",
       "</div>"
      ],
      "text/plain": [
       "             saleskey  invoiceno             datekey  customerkey productkey  \\\n",
       "0  125832272820101201     536370 2010-12-01 08:45:00        12583      22728   \n",
       "1  125832272720101201     536370 2010-12-01 08:45:00        12583      22727   \n",
       "2  125832272620101201     536370 2010-12-01 08:45:00        12583      22726   \n",
       "3  125832172420101201     536370 2010-12-01 08:45:00        12583      21724   \n",
       "4  125832188320101201     536370 2010-12-01 08:45:00        12583      21883   \n",
       "\n",
       "   unitprice  quantity  \n",
       "0       3.75        24  \n",
       "1       3.75        24  \n",
       "2       3.75        12  \n",
       "3       0.85        12  \n",
       "4       0.65        24  "
      ]
     },
     "execution_count": 30,
     "metadata": {},
     "output_type": "execute_result"
    }
   ],
   "source": [
    "df.head()"
   ]
  },
  {
   "cell_type": "code",
   "execution_count": null,
   "metadata": {},
   "outputs": [
    {
     "data": {
      "text/plain": [
       "74"
      ]
     },
     "execution_count": 31,
     "metadata": {},
     "output_type": "execute_result"
    }
   ],
   "source": [
    "df['customerkey'].count()"
   ]
  },
  {
   "cell_type": "code",
   "execution_count": null,
   "metadata": {},
   "outputs": [
    {
     "data": {
      "text/plain": [
       "0"
      ]
     },
     "execution_count": 33,
     "metadata": {},
     "output_type": "execute_result"
    }
   ],
   "source": [
    "df.duplicated().sum()"
   ]
  },
  {
   "cell_type": "code",
   "execution_count": null,
   "metadata": {},
   "outputs": [
    {
     "name": "stderr",
     "output_type": "stream",
     "text": [
      "C:\\Users\\Mohammed\\AppData\\Local\\Temp\\ipykernel_16660\\824621770.py:18: UserWarning: pandas only supports SQLAlchemy connectable (engine/connection) or database string URI or sqlite3 DBAPI2 connection. Other DBAPI2 objects are not tested. Please consider using SQLAlchemy.\n",
      "  fact= pd.read_sql(clened_data, con=engine)\n"
     ]
    },
    {
     "name": "stdout",
     "output_type": "stream",
     "text": [
      "             saleskey  invoiceno             datekey  customerkey productkey  \\\n",
      "0  125832272820101201     536370 2010-12-01 08:45:00        12583      22728   \n",
      "1  125832272720101201     536370 2010-12-01 08:45:00        12583      22727   \n",
      "2  125832272620101201     536370 2010-12-01 08:45:00        12583      22726   \n",
      "3  125832172420101201     536370 2010-12-01 08:45:00        12583      21724   \n",
      "4  125832188320101201     536370 2010-12-01 08:45:00        12583      21883   \n",
      "\n",
      "   unitprice  quantity  \n",
      "0       3.75        24  \n",
      "1       3.75        24  \n",
      "2       3.75        12  \n",
      "3       0.85        12  \n",
      "4       0.65        24  \n"
     ]
    },
    {
     "ename": "DuplicateColumnError",
     "evalue": "A column with name 'saleskey' is already present in table 'fact_sales'.",
     "output_type": "error",
     "traceback": [
      "\u001b[1;31m---------------------------------------------------------------------------\u001b[0m",
      "\u001b[1;31mDuplicateColumnError\u001b[0m                      Traceback (most recent call last)",
      "Cell \u001b[1;32mIn[41], line 23\u001b[0m\n\u001b[0;32m     21\u001b[0m     df\u001b[38;5;241m.\u001b[39mto_sql(name\u001b[38;5;241m=\u001b[39m\u001b[38;5;124m'\u001b[39m\u001b[38;5;124mfact_sales\u001b[39m\u001b[38;5;124m'\u001b[39m, con\u001b[38;5;241m=\u001b[39mdb_connection, if_exists\u001b[38;5;241m=\u001b[39m\u001b[38;5;124m'\u001b[39m\u001b[38;5;124mappend\u001b[39m\u001b[38;5;124m'\u001b[39m,index\u001b[38;5;241m=\u001b[39m\u001b[38;5;28;01mTrue\u001b[39;00m, index_label\u001b[38;5;241m=\u001b[39m\u001b[38;5;124m'\u001b[39m\u001b[38;5;124msaleskey\u001b[39m\u001b[38;5;124m'\u001b[39m)\n\u001b[0;32m     22\u001b[0m     \u001b[38;5;28mprint\u001b[39m(\u001b[38;5;124m'\u001b[39m\u001b[38;5;124mdone\u001b[39m\u001b[38;5;124m'\u001b[39m)\n\u001b[1;32m---> 23\u001b[0m \u001b[43mlaod_fact\u001b[49m\u001b[43m(\u001b[49m\u001b[43m)\u001b[49m\n",
      "Cell \u001b[1;32mIn[41], line 21\u001b[0m, in \u001b[0;36mlaod_fact\u001b[1;34m(engine, db_connection)\u001b[0m\n\u001b[0;32m     19\u001b[0m fact\u001b[38;5;241m=\u001b[39m fact\u001b[38;5;241m.\u001b[39mreset_index(drop\u001b[38;5;241m=\u001b[39m\u001b[38;5;28;01mTrue\u001b[39;00m)\u001b[38;5;241m.\u001b[39mset_index(\u001b[38;5;124m'\u001b[39m\u001b[38;5;124msaleskey\u001b[39m\u001b[38;5;124m'\u001b[39m)\n\u001b[0;32m     20\u001b[0m \u001b[38;5;28mprint\u001b[39m(insert_fact\u001b[38;5;241m.\u001b[39mhead())\n\u001b[1;32m---> 21\u001b[0m \u001b[43mdf\u001b[49m\u001b[38;5;241;43m.\u001b[39;49m\u001b[43mto_sql\u001b[49m\u001b[43m(\u001b[49m\u001b[43mname\u001b[49m\u001b[38;5;241;43m=\u001b[39;49m\u001b[38;5;124;43m'\u001b[39;49m\u001b[38;5;124;43mfact_sales\u001b[39;49m\u001b[38;5;124;43m'\u001b[39;49m\u001b[43m,\u001b[49m\u001b[43m \u001b[49m\u001b[43mcon\u001b[49m\u001b[38;5;241;43m=\u001b[39;49m\u001b[43mdb_connection\u001b[49m\u001b[43m,\u001b[49m\u001b[43m \u001b[49m\u001b[43mif_exists\u001b[49m\u001b[38;5;241;43m=\u001b[39;49m\u001b[38;5;124;43m'\u001b[39;49m\u001b[38;5;124;43mappend\u001b[39;49m\u001b[38;5;124;43m'\u001b[39;49m\u001b[43m,\u001b[49m\u001b[43mindex\u001b[49m\u001b[38;5;241;43m=\u001b[39;49m\u001b[38;5;28;43;01mTrue\u001b[39;49;00m\u001b[43m,\u001b[49m\u001b[43m \u001b[49m\u001b[43mindex_label\u001b[49m\u001b[38;5;241;43m=\u001b[39;49m\u001b[38;5;124;43m'\u001b[39;49m\u001b[38;5;124;43msaleskey\u001b[39;49m\u001b[38;5;124;43m'\u001b[39;49m\u001b[43m)\u001b[49m\n\u001b[0;32m     22\u001b[0m \u001b[38;5;28mprint\u001b[39m(\u001b[38;5;124m'\u001b[39m\u001b[38;5;124mdone\u001b[39m\u001b[38;5;124m'\u001b[39m)\n",
      "File \u001b[1;32mc:\\Users\\Mohammed\\AppData\\Local\\Programs\\Python\\Python311\\Lib\\site-packages\\pandas\\core\\generic.py:2987\u001b[0m, in \u001b[0;36mNDFrame.to_sql\u001b[1;34m(self, name, con, schema, if_exists, index, index_label, chunksize, dtype, method)\u001b[0m\n\u001b[0;32m   2830\u001b[0m \u001b[38;5;250m\u001b[39m\u001b[38;5;124;03m\"\"\"\u001b[39;00m\n\u001b[0;32m   2831\u001b[0m \u001b[38;5;124;03mWrite records stored in a DataFrame to a SQL database.\u001b[39;00m\n\u001b[0;32m   2832\u001b[0m \n\u001b[1;32m   (...)\u001b[0m\n\u001b[0;32m   2983\u001b[0m \u001b[38;5;124;03m[(1,), (None,), (2,)]\u001b[39;00m\n\u001b[0;32m   2984\u001b[0m \u001b[38;5;124;03m\"\"\"\u001b[39;00m  \u001b[38;5;66;03m# noqa:E501\u001b[39;00m\n\u001b[0;32m   2985\u001b[0m \u001b[38;5;28;01mfrom\u001b[39;00m \u001b[38;5;21;01mpandas\u001b[39;00m\u001b[38;5;21;01m.\u001b[39;00m\u001b[38;5;21;01mio\u001b[39;00m \u001b[38;5;28;01mimport\u001b[39;00m sql\n\u001b[1;32m-> 2987\u001b[0m \u001b[38;5;28;01mreturn\u001b[39;00m \u001b[43msql\u001b[49m\u001b[38;5;241;43m.\u001b[39;49m\u001b[43mto_sql\u001b[49m\u001b[43m(\u001b[49m\n\u001b[0;32m   2988\u001b[0m \u001b[43m    \u001b[49m\u001b[38;5;28;43mself\u001b[39;49m\u001b[43m,\u001b[49m\n\u001b[0;32m   2989\u001b[0m \u001b[43m    \u001b[49m\u001b[43mname\u001b[49m\u001b[43m,\u001b[49m\n\u001b[0;32m   2990\u001b[0m \u001b[43m    \u001b[49m\u001b[43mcon\u001b[49m\u001b[43m,\u001b[49m\n\u001b[0;32m   2991\u001b[0m \u001b[43m    \u001b[49m\u001b[43mschema\u001b[49m\u001b[38;5;241;43m=\u001b[39;49m\u001b[43mschema\u001b[49m\u001b[43m,\u001b[49m\n\u001b[0;32m   2992\u001b[0m \u001b[43m    \u001b[49m\u001b[43mif_exists\u001b[49m\u001b[38;5;241;43m=\u001b[39;49m\u001b[43mif_exists\u001b[49m\u001b[43m,\u001b[49m\n\u001b[0;32m   2993\u001b[0m \u001b[43m    \u001b[49m\u001b[43mindex\u001b[49m\u001b[38;5;241;43m=\u001b[39;49m\u001b[43mindex\u001b[49m\u001b[43m,\u001b[49m\n\u001b[0;32m   2994\u001b[0m \u001b[43m    \u001b[49m\u001b[43mindex_label\u001b[49m\u001b[38;5;241;43m=\u001b[39;49m\u001b[43mindex_label\u001b[49m\u001b[43m,\u001b[49m\n\u001b[0;32m   2995\u001b[0m \u001b[43m    \u001b[49m\u001b[43mchunksize\u001b[49m\u001b[38;5;241;43m=\u001b[39;49m\u001b[43mchunksize\u001b[49m\u001b[43m,\u001b[49m\n\u001b[0;32m   2996\u001b[0m \u001b[43m    \u001b[49m\u001b[43mdtype\u001b[49m\u001b[38;5;241;43m=\u001b[39;49m\u001b[43mdtype\u001b[49m\u001b[43m,\u001b[49m\n\u001b[0;32m   2997\u001b[0m \u001b[43m    \u001b[49m\u001b[43mmethod\u001b[49m\u001b[38;5;241;43m=\u001b[39;49m\u001b[43mmethod\u001b[49m\u001b[43m,\u001b[49m\n\u001b[0;32m   2998\u001b[0m \u001b[43m\u001b[49m\u001b[43m)\u001b[49m\n",
      "File \u001b[1;32mc:\\Users\\Mohammed\\AppData\\Local\\Programs\\Python\\Python311\\Lib\\site-packages\\pandas\\io\\sql.py:695\u001b[0m, in \u001b[0;36mto_sql\u001b[1;34m(frame, name, con, schema, if_exists, index, index_label, chunksize, dtype, method, engine, **engine_kwargs)\u001b[0m\n\u001b[0;32m    690\u001b[0m \u001b[38;5;28;01melif\u001b[39;00m \u001b[38;5;129;01mnot\u001b[39;00m \u001b[38;5;28misinstance\u001b[39m(frame, DataFrame):\n\u001b[0;32m    691\u001b[0m     \u001b[38;5;28;01mraise\u001b[39;00m \u001b[38;5;167;01mNotImplementedError\u001b[39;00m(\n\u001b[0;32m    692\u001b[0m         \u001b[38;5;124m\"\u001b[39m\u001b[38;5;124m'\u001b[39m\u001b[38;5;124mframe\u001b[39m\u001b[38;5;124m'\u001b[39m\u001b[38;5;124m argument should be either a Series or a DataFrame\u001b[39m\u001b[38;5;124m\"\u001b[39m\n\u001b[0;32m    693\u001b[0m     )\n\u001b[1;32m--> 695\u001b[0m \u001b[38;5;28;01mreturn\u001b[39;00m \u001b[43mpandas_sql\u001b[49m\u001b[38;5;241;43m.\u001b[39;49m\u001b[43mto_sql\u001b[49m\u001b[43m(\u001b[49m\n\u001b[0;32m    696\u001b[0m \u001b[43m    \u001b[49m\u001b[43mframe\u001b[49m\u001b[43m,\u001b[49m\n\u001b[0;32m    697\u001b[0m \u001b[43m    \u001b[49m\u001b[43mname\u001b[49m\u001b[43m,\u001b[49m\n\u001b[0;32m    698\u001b[0m \u001b[43m    \u001b[49m\u001b[43mif_exists\u001b[49m\u001b[38;5;241;43m=\u001b[39;49m\u001b[43mif_exists\u001b[49m\u001b[43m,\u001b[49m\n\u001b[0;32m    699\u001b[0m \u001b[43m    \u001b[49m\u001b[43mindex\u001b[49m\u001b[38;5;241;43m=\u001b[39;49m\u001b[43mindex\u001b[49m\u001b[43m,\u001b[49m\n\u001b[0;32m    700\u001b[0m \u001b[43m    \u001b[49m\u001b[43mindex_label\u001b[49m\u001b[38;5;241;43m=\u001b[39;49m\u001b[43mindex_label\u001b[49m\u001b[43m,\u001b[49m\n\u001b[0;32m    701\u001b[0m \u001b[43m    \u001b[49m\u001b[43mschema\u001b[49m\u001b[38;5;241;43m=\u001b[39;49m\u001b[43mschema\u001b[49m\u001b[43m,\u001b[49m\n\u001b[0;32m    702\u001b[0m \u001b[43m    \u001b[49m\u001b[43mchunksize\u001b[49m\u001b[38;5;241;43m=\u001b[39;49m\u001b[43mchunksize\u001b[49m\u001b[43m,\u001b[49m\n\u001b[0;32m    703\u001b[0m \u001b[43m    \u001b[49m\u001b[43mdtype\u001b[49m\u001b[38;5;241;43m=\u001b[39;49m\u001b[43mdtype\u001b[49m\u001b[43m,\u001b[49m\n\u001b[0;32m    704\u001b[0m \u001b[43m    \u001b[49m\u001b[43mmethod\u001b[49m\u001b[38;5;241;43m=\u001b[39;49m\u001b[43mmethod\u001b[49m\u001b[43m,\u001b[49m\n\u001b[0;32m    705\u001b[0m \u001b[43m    \u001b[49m\u001b[43mengine\u001b[49m\u001b[38;5;241;43m=\u001b[39;49m\u001b[43mengine\u001b[49m\u001b[43m,\u001b[49m\n\u001b[0;32m    706\u001b[0m \u001b[43m    \u001b[49m\u001b[38;5;241;43m*\u001b[39;49m\u001b[38;5;241;43m*\u001b[39;49m\u001b[43mengine_kwargs\u001b[49m\u001b[43m,\u001b[49m\n\u001b[0;32m    707\u001b[0m \u001b[43m\u001b[49m\u001b[43m)\u001b[49m\n",
      "File \u001b[1;32mc:\\Users\\Mohammed\\AppData\\Local\\Programs\\Python\\Python311\\Lib\\site-packages\\pandas\\io\\sql.py:1728\u001b[0m, in \u001b[0;36mSQLDatabase.to_sql\u001b[1;34m(self, frame, name, if_exists, index, index_label, schema, chunksize, dtype, method, engine, **engine_kwargs)\u001b[0m\n\u001b[0;32m   1678\u001b[0m \u001b[38;5;250m\u001b[39m\u001b[38;5;124;03m\"\"\"\u001b[39;00m\n\u001b[0;32m   1679\u001b[0m \u001b[38;5;124;03mWrite records stored in a DataFrame to a SQL database.\u001b[39;00m\n\u001b[0;32m   1680\u001b[0m \n\u001b[1;32m   (...)\u001b[0m\n\u001b[0;32m   1724\u001b[0m \u001b[38;5;124;03m    Any additional kwargs are passed to the engine.\u001b[39;00m\n\u001b[0;32m   1725\u001b[0m \u001b[38;5;124;03m\"\"\"\u001b[39;00m\n\u001b[0;32m   1726\u001b[0m sql_engine \u001b[38;5;241m=\u001b[39m get_engine(engine)\n\u001b[1;32m-> 1728\u001b[0m table \u001b[38;5;241m=\u001b[39m \u001b[38;5;28;43mself\u001b[39;49m\u001b[38;5;241;43m.\u001b[39;49m\u001b[43mprep_table\u001b[49m\u001b[43m(\u001b[49m\n\u001b[0;32m   1729\u001b[0m \u001b[43m    \u001b[49m\u001b[43mframe\u001b[49m\u001b[38;5;241;43m=\u001b[39;49m\u001b[43mframe\u001b[49m\u001b[43m,\u001b[49m\n\u001b[0;32m   1730\u001b[0m \u001b[43m    \u001b[49m\u001b[43mname\u001b[49m\u001b[38;5;241;43m=\u001b[39;49m\u001b[43mname\u001b[49m\u001b[43m,\u001b[49m\n\u001b[0;32m   1731\u001b[0m \u001b[43m    \u001b[49m\u001b[43mif_exists\u001b[49m\u001b[38;5;241;43m=\u001b[39;49m\u001b[43mif_exists\u001b[49m\u001b[43m,\u001b[49m\n\u001b[0;32m   1732\u001b[0m \u001b[43m    \u001b[49m\u001b[43mindex\u001b[49m\u001b[38;5;241;43m=\u001b[39;49m\u001b[43mindex\u001b[49m\u001b[43m,\u001b[49m\n\u001b[0;32m   1733\u001b[0m \u001b[43m    \u001b[49m\u001b[43mindex_label\u001b[49m\u001b[38;5;241;43m=\u001b[39;49m\u001b[43mindex_label\u001b[49m\u001b[43m,\u001b[49m\n\u001b[0;32m   1734\u001b[0m \u001b[43m    \u001b[49m\u001b[43mschema\u001b[49m\u001b[38;5;241;43m=\u001b[39;49m\u001b[43mschema\u001b[49m\u001b[43m,\u001b[49m\n\u001b[0;32m   1735\u001b[0m \u001b[43m    \u001b[49m\u001b[43mdtype\u001b[49m\u001b[38;5;241;43m=\u001b[39;49m\u001b[43mdtype\u001b[49m\u001b[43m,\u001b[49m\n\u001b[0;32m   1736\u001b[0m \u001b[43m\u001b[49m\u001b[43m)\u001b[49m\n\u001b[0;32m   1738\u001b[0m total_inserted \u001b[38;5;241m=\u001b[39m sql_engine\u001b[38;5;241m.\u001b[39minsert_records(\n\u001b[0;32m   1739\u001b[0m     table\u001b[38;5;241m=\u001b[39mtable,\n\u001b[0;32m   1740\u001b[0m     con\u001b[38;5;241m=\u001b[39m\u001b[38;5;28mself\u001b[39m\u001b[38;5;241m.\u001b[39mconnectable,\n\u001b[1;32m   (...)\u001b[0m\n\u001b[0;32m   1747\u001b[0m     \u001b[38;5;241m*\u001b[39m\u001b[38;5;241m*\u001b[39mengine_kwargs,\n\u001b[0;32m   1748\u001b[0m )\n\u001b[0;32m   1750\u001b[0m \u001b[38;5;28mself\u001b[39m\u001b[38;5;241m.\u001b[39mcheck_case_sensitive(name\u001b[38;5;241m=\u001b[39mname, schema\u001b[38;5;241m=\u001b[39mschema)\n",
      "File \u001b[1;32mc:\\Users\\Mohammed\\AppData\\Local\\Programs\\Python\\Python311\\Lib\\site-packages\\pandas\\io\\sql.py:1621\u001b[0m, in \u001b[0;36mSQLDatabase.prep_table\u001b[1;34m(self, frame, name, if_exists, index, index_label, schema, dtype)\u001b[0m\n\u001b[0;32m   1618\u001b[0m         \u001b[38;5;28;01mif\u001b[39;00m \u001b[38;5;129;01mnot\u001b[39;00m \u001b[38;5;28misinstance\u001b[39m(to_instance(my_type), TypeEngine):\n\u001b[0;32m   1619\u001b[0m             \u001b[38;5;28;01mraise\u001b[39;00m \u001b[38;5;167;01mValueError\u001b[39;00m(\u001b[38;5;124mf\u001b[39m\u001b[38;5;124m\"\u001b[39m\u001b[38;5;124mThe type of \u001b[39m\u001b[38;5;132;01m{\u001b[39;00mcol\u001b[38;5;132;01m}\u001b[39;00m\u001b[38;5;124m is not a SQLAlchemy type\u001b[39m\u001b[38;5;124m\"\u001b[39m)\n\u001b[1;32m-> 1621\u001b[0m table \u001b[38;5;241m=\u001b[39m \u001b[43mSQLTable\u001b[49m\u001b[43m(\u001b[49m\n\u001b[0;32m   1622\u001b[0m \u001b[43m    \u001b[49m\u001b[43mname\u001b[49m\u001b[43m,\u001b[49m\n\u001b[0;32m   1623\u001b[0m \u001b[43m    \u001b[49m\u001b[38;5;28;43mself\u001b[39;49m\u001b[43m,\u001b[49m\n\u001b[0;32m   1624\u001b[0m \u001b[43m    \u001b[49m\u001b[43mframe\u001b[49m\u001b[38;5;241;43m=\u001b[39;49m\u001b[43mframe\u001b[49m\u001b[43m,\u001b[49m\n\u001b[0;32m   1625\u001b[0m \u001b[43m    \u001b[49m\u001b[43mindex\u001b[49m\u001b[38;5;241;43m=\u001b[39;49m\u001b[43mindex\u001b[49m\u001b[43m,\u001b[49m\n\u001b[0;32m   1626\u001b[0m \u001b[43m    \u001b[49m\u001b[43mif_exists\u001b[49m\u001b[38;5;241;43m=\u001b[39;49m\u001b[43mif_exists\u001b[49m\u001b[43m,\u001b[49m\n\u001b[0;32m   1627\u001b[0m \u001b[43m    \u001b[49m\u001b[43mindex_label\u001b[49m\u001b[38;5;241;43m=\u001b[39;49m\u001b[43mindex_label\u001b[49m\u001b[43m,\u001b[49m\n\u001b[0;32m   1628\u001b[0m \u001b[43m    \u001b[49m\u001b[43mschema\u001b[49m\u001b[38;5;241;43m=\u001b[39;49m\u001b[43mschema\u001b[49m\u001b[43m,\u001b[49m\n\u001b[0;32m   1629\u001b[0m \u001b[43m    \u001b[49m\u001b[43mdtype\u001b[49m\u001b[38;5;241;43m=\u001b[39;49m\u001b[43mdtype\u001b[49m\u001b[43m,\u001b[49m\n\u001b[0;32m   1630\u001b[0m \u001b[43m\u001b[49m\u001b[43m)\u001b[49m\n\u001b[0;32m   1631\u001b[0m table\u001b[38;5;241m.\u001b[39mcreate()\n\u001b[0;32m   1632\u001b[0m \u001b[38;5;28;01mreturn\u001b[39;00m table\n",
      "File \u001b[1;32mc:\\Users\\Mohammed\\AppData\\Local\\Programs\\Python\\Python311\\Lib\\site-packages\\pandas\\io\\sql.py:805\u001b[0m, in \u001b[0;36mSQLTable.__init__\u001b[1;34m(self, name, pandas_sql_engine, frame, index, if_exists, prefix, index_label, schema, keys, dtype)\u001b[0m\n\u001b[0;32m    801\u001b[0m \u001b[38;5;28mself\u001b[39m\u001b[38;5;241m.\u001b[39mdtype \u001b[38;5;241m=\u001b[39m dtype\n\u001b[0;32m    803\u001b[0m \u001b[38;5;28;01mif\u001b[39;00m frame \u001b[38;5;129;01mis\u001b[39;00m \u001b[38;5;129;01mnot\u001b[39;00m \u001b[38;5;28;01mNone\u001b[39;00m:\n\u001b[0;32m    804\u001b[0m     \u001b[38;5;66;03m# We want to initialize based on a dataframe\u001b[39;00m\n\u001b[1;32m--> 805\u001b[0m     \u001b[38;5;28mself\u001b[39m\u001b[38;5;241m.\u001b[39mtable \u001b[38;5;241m=\u001b[39m \u001b[38;5;28;43mself\u001b[39;49m\u001b[38;5;241;43m.\u001b[39;49m\u001b[43m_create_table_setup\u001b[49m\u001b[43m(\u001b[49m\u001b[43m)\u001b[49m\n\u001b[0;32m    806\u001b[0m \u001b[38;5;28;01melse\u001b[39;00m:\n\u001b[0;32m    807\u001b[0m     \u001b[38;5;66;03m# no data provided, read-only mode\u001b[39;00m\n\u001b[0;32m    808\u001b[0m     \u001b[38;5;28mself\u001b[39m\u001b[38;5;241m.\u001b[39mtable \u001b[38;5;241m=\u001b[39m \u001b[38;5;28mself\u001b[39m\u001b[38;5;241m.\u001b[39mpd_sql\u001b[38;5;241m.\u001b[39mget_table(\u001b[38;5;28mself\u001b[39m\u001b[38;5;241m.\u001b[39mname, \u001b[38;5;28mself\u001b[39m\u001b[38;5;241m.\u001b[39mschema)\n",
      "File \u001b[1;32mc:\\Users\\Mohammed\\AppData\\Local\\Programs\\Python\\Python311\\Lib\\site-packages\\pandas\\io\\sql.py:1102\u001b[0m, in \u001b[0;36mSQLTable._create_table_setup\u001b[1;34m(self)\u001b[0m\n\u001b[0;32m   1099\u001b[0m \u001b[38;5;66;03m# At this point, attach to new metadata, only attach to self.meta\u001b[39;00m\n\u001b[0;32m   1100\u001b[0m \u001b[38;5;66;03m# once table is created.\u001b[39;00m\n\u001b[0;32m   1101\u001b[0m meta \u001b[38;5;241m=\u001b[39m MetaData()\n\u001b[1;32m-> 1102\u001b[0m \u001b[38;5;28;01mreturn\u001b[39;00m \u001b[43mTable\u001b[49m\u001b[43m(\u001b[49m\u001b[38;5;28;43mself\u001b[39;49m\u001b[38;5;241;43m.\u001b[39;49m\u001b[43mname\u001b[49m\u001b[43m,\u001b[49m\u001b[43m \u001b[49m\u001b[43mmeta\u001b[49m\u001b[43m,\u001b[49m\u001b[43m \u001b[49m\u001b[38;5;241;43m*\u001b[39;49m\u001b[43mcolumns\u001b[49m\u001b[43m,\u001b[49m\u001b[43m \u001b[49m\u001b[43mschema\u001b[49m\u001b[38;5;241;43m=\u001b[39;49m\u001b[43mschema\u001b[49m\u001b[43m)\u001b[49m\n",
      "File \u001b[1;32m<string>:2\u001b[0m, in \u001b[0;36m__new__\u001b[1;34m(cls, *args, **kw)\u001b[0m\n",
      "File \u001b[1;32mc:\\Users\\Mohammed\\AppData\\Local\\Programs\\Python\\Python311\\Lib\\site-packages\\sqlalchemy\\util\\deprecations.py:281\u001b[0m, in \u001b[0;36mdeprecated_params.<locals>.decorate.<locals>.warned\u001b[1;34m(fn, *args, **kwargs)\u001b[0m\n\u001b[0;32m    274\u001b[0m     \u001b[38;5;28;01mif\u001b[39;00m m \u001b[38;5;129;01min\u001b[39;00m kwargs:\n\u001b[0;32m    275\u001b[0m         _warn_with_version(\n\u001b[0;32m    276\u001b[0m             messages[m],\n\u001b[0;32m    277\u001b[0m             versions[m],\n\u001b[0;32m    278\u001b[0m             version_warnings[m],\n\u001b[0;32m    279\u001b[0m             stacklevel\u001b[38;5;241m=\u001b[39m\u001b[38;5;241m3\u001b[39m,\n\u001b[0;32m    280\u001b[0m         )\n\u001b[1;32m--> 281\u001b[0m \u001b[38;5;28;01mreturn\u001b[39;00m \u001b[43mfn\u001b[49m\u001b[43m(\u001b[49m\u001b[38;5;241;43m*\u001b[39;49m\u001b[43margs\u001b[49m\u001b[43m,\u001b[49m\u001b[43m \u001b[49m\u001b[38;5;241;43m*\u001b[39;49m\u001b[38;5;241;43m*\u001b[39;49m\u001b[43mkwargs\u001b[49m\u001b[43m)\u001b[49m\n",
      "File \u001b[1;32mc:\\Users\\Mohammed\\AppData\\Local\\Programs\\Python\\Python311\\Lib\\site-packages\\sqlalchemy\\sql\\schema.py:436\u001b[0m, in \u001b[0;36mTable.__new__\u001b[1;34m(cls, *args, **kw)\u001b[0m\n\u001b[0;32m    429\u001b[0m \u001b[38;5;129m@util\u001b[39m\u001b[38;5;241m.\u001b[39mdeprecated_params(\n\u001b[0;32m    430\u001b[0m     mustexist\u001b[38;5;241m=\u001b[39m(\n\u001b[0;32m    431\u001b[0m         \u001b[38;5;124m\"\u001b[39m\u001b[38;5;124m1.4\u001b[39m\u001b[38;5;124m\"\u001b[39m,\n\u001b[1;32m   (...)\u001b[0m\n\u001b[0;32m    434\u001b[0m )\n\u001b[0;32m    435\u001b[0m \u001b[38;5;28;01mdef\u001b[39;00m \u001b[38;5;21m__new__\u001b[39m(\u001b[38;5;28mcls\u001b[39m, \u001b[38;5;241m*\u001b[39margs: Any, \u001b[38;5;241m*\u001b[39m\u001b[38;5;241m*\u001b[39mkw: Any) \u001b[38;5;241m-\u001b[39m\u001b[38;5;241m>\u001b[39m Any:\n\u001b[1;32m--> 436\u001b[0m     \u001b[38;5;28;01mreturn\u001b[39;00m \u001b[38;5;28;43mcls\u001b[39;49m\u001b[38;5;241;43m.\u001b[39;49m\u001b[43m_new\u001b[49m\u001b[43m(\u001b[49m\u001b[38;5;241;43m*\u001b[39;49m\u001b[43margs\u001b[49m\u001b[43m,\u001b[49m\u001b[43m \u001b[49m\u001b[38;5;241;43m*\u001b[39;49m\u001b[38;5;241;43m*\u001b[39;49m\u001b[43mkw\u001b[49m\u001b[43m)\u001b[49m\n",
      "File \u001b[1;32mc:\\Users\\Mohammed\\AppData\\Local\\Programs\\Python\\Python311\\Lib\\site-packages\\sqlalchemy\\sql\\schema.py:490\u001b[0m, in \u001b[0;36mTable._new\u001b[1;34m(cls, *args, **kw)\u001b[0m\n\u001b[0;32m    488\u001b[0m     \u001b[38;5;28;01mreturn\u001b[39;00m table\n\u001b[0;32m    489\u001b[0m \u001b[38;5;28;01mexcept\u001b[39;00m \u001b[38;5;167;01mException\u001b[39;00m:\n\u001b[1;32m--> 490\u001b[0m \u001b[43m    \u001b[49m\u001b[38;5;28;43;01mwith\u001b[39;49;00m\u001b[43m \u001b[49m\u001b[43mutil\u001b[49m\u001b[38;5;241;43m.\u001b[39;49m\u001b[43msafe_reraise\u001b[49m\u001b[43m(\u001b[49m\u001b[43m)\u001b[49m\u001b[43m:\u001b[49m\n\u001b[0;32m    491\u001b[0m \u001b[43m        \u001b[49m\u001b[43mmetadata\u001b[49m\u001b[38;5;241;43m.\u001b[39;49m\u001b[43m_remove_table\u001b[49m\u001b[43m(\u001b[49m\u001b[43mname\u001b[49m\u001b[43m,\u001b[49m\u001b[43m \u001b[49m\u001b[43mschema\u001b[49m\u001b[43m)\u001b[49m\n",
      "File \u001b[1;32mc:\\Users\\Mohammed\\AppData\\Local\\Programs\\Python\\Python311\\Lib\\site-packages\\sqlalchemy\\util\\langhelpers.py:146\u001b[0m, in \u001b[0;36msafe_reraise.__exit__\u001b[1;34m(self, type_, value, traceback)\u001b[0m\n\u001b[0;32m    144\u001b[0m     \u001b[38;5;28;01massert\u001b[39;00m exc_value \u001b[38;5;129;01mis\u001b[39;00m \u001b[38;5;129;01mnot\u001b[39;00m \u001b[38;5;28;01mNone\u001b[39;00m\n\u001b[0;32m    145\u001b[0m     \u001b[38;5;28mself\u001b[39m\u001b[38;5;241m.\u001b[39m_exc_info \u001b[38;5;241m=\u001b[39m \u001b[38;5;28;01mNone\u001b[39;00m  \u001b[38;5;66;03m# remove potential circular references\u001b[39;00m\n\u001b[1;32m--> 146\u001b[0m     \u001b[38;5;28;01mraise\u001b[39;00m exc_value\u001b[38;5;241m.\u001b[39mwith_traceback(exc_tb)\n\u001b[0;32m    147\u001b[0m \u001b[38;5;28;01melse\u001b[39;00m:\n\u001b[0;32m    148\u001b[0m     \u001b[38;5;28mself\u001b[39m\u001b[38;5;241m.\u001b[39m_exc_info \u001b[38;5;241m=\u001b[39m \u001b[38;5;28;01mNone\u001b[39;00m  \u001b[38;5;66;03m# remove potential circular references\u001b[39;00m\n",
      "File \u001b[1;32mc:\\Users\\Mohammed\\AppData\\Local\\Programs\\Python\\Python311\\Lib\\site-packages\\sqlalchemy\\sql\\schema.py:486\u001b[0m, in \u001b[0;36mTable._new\u001b[1;34m(cls, *args, **kw)\u001b[0m\n\u001b[0;32m    484\u001b[0m metadata\u001b[38;5;241m.\u001b[39m_add_table(name, schema, table)\n\u001b[0;32m    485\u001b[0m \u001b[38;5;28;01mtry\u001b[39;00m:\n\u001b[1;32m--> 486\u001b[0m     \u001b[43mtable\u001b[49m\u001b[38;5;241;43m.\u001b[39;49m\u001b[38;5;21;43m__init__\u001b[39;49m\u001b[43m(\u001b[49m\u001b[43mname\u001b[49m\u001b[43m,\u001b[49m\u001b[43m \u001b[49m\u001b[43mmetadata\u001b[49m\u001b[43m,\u001b[49m\u001b[43m \u001b[49m\u001b[38;5;241;43m*\u001b[39;49m\u001b[43margs\u001b[49m\u001b[43m,\u001b[49m\u001b[43m \u001b[49m\u001b[43m_no_init\u001b[49m\u001b[38;5;241;43m=\u001b[39;49m\u001b[38;5;28;43;01mFalse\u001b[39;49;00m\u001b[43m,\u001b[49m\u001b[43m \u001b[49m\u001b[38;5;241;43m*\u001b[39;49m\u001b[38;5;241;43m*\u001b[39;49m\u001b[43mkw\u001b[49m\u001b[43m)\u001b[49m\n\u001b[0;32m    487\u001b[0m     table\u001b[38;5;241m.\u001b[39mdispatch\u001b[38;5;241m.\u001b[39mafter_parent_attach(table, metadata)\n\u001b[0;32m    488\u001b[0m     \u001b[38;5;28;01mreturn\u001b[39;00m table\n",
      "File \u001b[1;32mc:\\Users\\Mohammed\\AppData\\Local\\Programs\\Python\\Python311\\Lib\\site-packages\\sqlalchemy\\sql\\schema.py:878\u001b[0m, in \u001b[0;36mTable.__init__\u001b[1;34m(self, name, metadata, schema, quote, quote_schema, autoload_with, autoload_replace, keep_existing, extend_existing, resolve_fks, include_columns, implicit_returning, comment, info, listeners, prefixes, _extend_on, _no_init, *args, **kw)\u001b[0m\n\u001b[0;32m    866\u001b[0m     \u001b[38;5;28mself\u001b[39m\u001b[38;5;241m.\u001b[39m_autoload(\n\u001b[0;32m    867\u001b[0m         metadata,\n\u001b[0;32m    868\u001b[0m         autoload_with,\n\u001b[1;32m   (...)\u001b[0m\n\u001b[0;32m    872\u001b[0m         resolve_fks\u001b[38;5;241m=\u001b[39mresolve_fks,\n\u001b[0;32m    873\u001b[0m     )\n\u001b[0;32m    875\u001b[0m \u001b[38;5;66;03m# initialize all the column, etc. objects.  done after reflection to\u001b[39;00m\n\u001b[0;32m    876\u001b[0m \u001b[38;5;66;03m# allow user-overrides\u001b[39;00m\n\u001b[1;32m--> 878\u001b[0m \u001b[38;5;28;43mself\u001b[39;49m\u001b[38;5;241;43m.\u001b[39;49m\u001b[43m_init_items\u001b[49m\u001b[43m(\u001b[49m\n\u001b[0;32m    879\u001b[0m \u001b[43m    \u001b[49m\u001b[38;5;241;43m*\u001b[39;49m\u001b[43margs\u001b[49m\u001b[43m,\u001b[49m\n\u001b[0;32m    880\u001b[0m \u001b[43m    \u001b[49m\u001b[43mallow_replacements\u001b[49m\u001b[38;5;241;43m=\u001b[39;49m\u001b[43mextend_existing\u001b[49m\n\u001b[0;32m    881\u001b[0m \u001b[43m    \u001b[49m\u001b[38;5;129;43;01mor\u001b[39;49;00m\u001b[43m \u001b[49m\u001b[43mkeep_existing\u001b[49m\n\u001b[0;32m    882\u001b[0m \u001b[43m    \u001b[49m\u001b[38;5;129;43;01mor\u001b[39;49;00m\u001b[43m \u001b[49m\u001b[43mautoload_with\u001b[49m\u001b[43m,\u001b[49m\n\u001b[0;32m    883\u001b[0m \u001b[43m    \u001b[49m\u001b[43mall_names\u001b[49m\u001b[38;5;241;43m=\u001b[39;49m\u001b[43m{\u001b[49m\u001b[43m}\u001b[49m\u001b[43m,\u001b[49m\n\u001b[0;32m    884\u001b[0m \u001b[43m\u001b[49m\u001b[43m)\u001b[49m\n",
      "File \u001b[1;32mc:\\Users\\Mohammed\\AppData\\Local\\Programs\\Python\\Python311\\Lib\\site-packages\\sqlalchemy\\sql\\schema.py:231\u001b[0m, in \u001b[0;36mSchemaItem._init_items\u001b[1;34m(self, *args, **kw)\u001b[0m\n\u001b[0;32m    226\u001b[0m     \u001b[38;5;28;01mraise\u001b[39;00m exc\u001b[38;5;241m.\u001b[39mArgumentError(\n\u001b[0;32m    227\u001b[0m         \u001b[38;5;124m\"\u001b[39m\u001b[38;5;124m'\u001b[39m\u001b[38;5;124mSchemaItem\u001b[39m\u001b[38;5;124m'\u001b[39m\u001b[38;5;124m object, such as a \u001b[39m\u001b[38;5;124m'\u001b[39m\u001b[38;5;124mColumn\u001b[39m\u001b[38;5;124m'\u001b[39m\u001b[38;5;124m or a \u001b[39m\u001b[38;5;124m\"\u001b[39m\n\u001b[0;32m    228\u001b[0m         \u001b[38;5;124mf\u001b[39m\u001b[38;5;124m\"\u001b[39m\u001b[38;5;124m'\u001b[39m\u001b[38;5;124mConstraint\u001b[39m\u001b[38;5;124m'\u001b[39m\u001b[38;5;124m expected, got \u001b[39m\u001b[38;5;132;01m{\u001b[39;00mitem\u001b[38;5;132;01m!r}\u001b[39;00m\u001b[38;5;124m\"\u001b[39m\n\u001b[0;32m    229\u001b[0m     ) \u001b[38;5;28;01mfrom\u001b[39;00m \u001b[38;5;21;01merr\u001b[39;00m\n\u001b[0;32m    230\u001b[0m \u001b[38;5;28;01melse\u001b[39;00m:\n\u001b[1;32m--> 231\u001b[0m     \u001b[43mspwd\u001b[49m\u001b[43m(\u001b[49m\u001b[38;5;28;43mself\u001b[39;49m\u001b[43m,\u001b[49m\u001b[43m \u001b[49m\u001b[38;5;241;43m*\u001b[39;49m\u001b[38;5;241;43m*\u001b[39;49m\u001b[43mkw\u001b[49m\u001b[43m)\u001b[49m\n",
      "File \u001b[1;32mc:\\Users\\Mohammed\\AppData\\Local\\Programs\\Python\\Python311\\Lib\\site-packages\\sqlalchemy\\sql\\base.py:1337\u001b[0m, in \u001b[0;36mSchemaEventTarget._set_parent_with_dispatch\u001b[1;34m(self, parent, **kw)\u001b[0m\n\u001b[0;32m   1333\u001b[0m \u001b[38;5;28;01mdef\u001b[39;00m \u001b[38;5;21m_set_parent_with_dispatch\u001b[39m(\n\u001b[0;32m   1334\u001b[0m     \u001b[38;5;28mself\u001b[39m, parent: SchemaEventTarget, \u001b[38;5;241m*\u001b[39m\u001b[38;5;241m*\u001b[39mkw: Any\n\u001b[0;32m   1335\u001b[0m ) \u001b[38;5;241m-\u001b[39m\u001b[38;5;241m>\u001b[39m \u001b[38;5;28;01mNone\u001b[39;00m:\n\u001b[0;32m   1336\u001b[0m     \u001b[38;5;28mself\u001b[39m\u001b[38;5;241m.\u001b[39mdispatch\u001b[38;5;241m.\u001b[39mbefore_parent_attach(\u001b[38;5;28mself\u001b[39m, parent)\n\u001b[1;32m-> 1337\u001b[0m     \u001b[38;5;28;43mself\u001b[39;49m\u001b[38;5;241;43m.\u001b[39;49m\u001b[43m_set_parent\u001b[49m\u001b[43m(\u001b[49m\u001b[43mparent\u001b[49m\u001b[43m,\u001b[49m\u001b[43m \u001b[49m\u001b[38;5;241;43m*\u001b[39;49m\u001b[38;5;241;43m*\u001b[39;49m\u001b[43mkw\u001b[49m\u001b[43m)\u001b[49m\n\u001b[0;32m   1338\u001b[0m     \u001b[38;5;28mself\u001b[39m\u001b[38;5;241m.\u001b[39mdispatch\u001b[38;5;241m.\u001b[39mafter_parent_attach(\u001b[38;5;28mself\u001b[39m, parent)\n",
      "File \u001b[1;32mc:\\Users\\Mohammed\\AppData\\Local\\Programs\\Python\\Python311\\Lib\\site-packages\\sqlalchemy\\sql\\schema.py:2342\u001b[0m, in \u001b[0;36mColumn._set_parent\u001b[1;34m(self, parent, all_names, allow_replacements, **kw)\u001b[0m\n\u001b[0;32m   2340\u001b[0m \u001b[38;5;28;01mif\u001b[39;00m existing_col \u001b[38;5;129;01mis\u001b[39;00m \u001b[38;5;129;01mnot\u001b[39;00m \u001b[38;5;28mself\u001b[39m:\n\u001b[0;32m   2341\u001b[0m     \u001b[38;5;28;01mif\u001b[39;00m \u001b[38;5;129;01mnot\u001b[39;00m allow_replacements:\n\u001b[1;32m-> 2342\u001b[0m         \u001b[38;5;28;01mraise\u001b[39;00m exc\u001b[38;5;241m.\u001b[39mDuplicateColumnError(\n\u001b[0;32m   2343\u001b[0m             \u001b[38;5;124mf\u001b[39m\u001b[38;5;124m\"\u001b[39m\u001b[38;5;124mA column with \u001b[39m\u001b[38;5;132;01m{\u001b[39;00mconflicts_on\u001b[38;5;132;01m}\u001b[39;00m\u001b[38;5;124m \u001b[39m\u001b[38;5;124m\"\u001b[39m\n\u001b[0;32m   2344\u001b[0m             \u001b[38;5;124mf\u001b[39m\u001b[38;5;124m\"\"\"\u001b[39m\u001b[38;5;124m'\u001b[39m\u001b[38;5;132;01m{\u001b[39;00m\n\u001b[0;32m   2345\u001b[0m \u001b[38;5;250m                \u001b[39m\u001b[38;5;28mself\u001b[39m\u001b[38;5;241m.\u001b[39mkey\u001b[38;5;250m \u001b[39m\u001b[38;5;28;01mif\u001b[39;00m\u001b[38;5;250m \u001b[39mconflicts_on\u001b[38;5;250m \u001b[39m\u001b[38;5;241m==\u001b[39m\u001b[38;5;250m \u001b[39m\u001b[38;5;124m'\u001b[39m\u001b[38;5;124mkey\u001b[39m\u001b[38;5;124m'\u001b[39m\u001b[38;5;250m \u001b[39m\u001b[38;5;28;01melse\u001b[39;00m\u001b[38;5;250m \u001b[39m\u001b[38;5;28mself\u001b[39m\u001b[38;5;241m.\u001b[39mname\n\u001b[0;32m   2346\u001b[0m \u001b[38;5;250m            \u001b[39m\u001b[38;5;132;01m}\u001b[39;00m\u001b[38;5;124m'\u001b[39m\u001b[38;5;124m \u001b[39m\u001b[38;5;124m\"\"\"\u001b[39m\n\u001b[0;32m   2347\u001b[0m             \u001b[38;5;124mf\u001b[39m\u001b[38;5;124m\"\u001b[39m\u001b[38;5;124mis already present in table \u001b[39m\u001b[38;5;124m'\u001b[39m\u001b[38;5;132;01m{\u001b[39;00mtable\u001b[38;5;241m.\u001b[39mname\u001b[38;5;132;01m}\u001b[39;00m\u001b[38;5;124m'\u001b[39m\u001b[38;5;124m.\u001b[39m\u001b[38;5;124m\"\u001b[39m\n\u001b[0;32m   2348\u001b[0m         )\n\u001b[0;32m   2349\u001b[0m     \u001b[38;5;28;01mfor\u001b[39;00m fk \u001b[38;5;129;01min\u001b[39;00m existing_col\u001b[38;5;241m.\u001b[39mforeign_keys:\n\u001b[0;32m   2350\u001b[0m         table\u001b[38;5;241m.\u001b[39mforeign_keys\u001b[38;5;241m.\u001b[39mremove(fk)\n",
      "\u001b[1;31mDuplicateColumnError\u001b[0m: A column with name 'saleskey' is already present in table 'fact_sales'."
     ]
    }
   ],
   "source": [
    "def laod_fact(engine= db_engine, db_connection= db_conn):\n",
    "    # saleskey| invoiceno | datekey | customerkey | productkey | unitprice | quantity\n",
    "    clened_data= \"\"\"\n",
    "        SELECT c.saleskey,\n",
    "            c.invoiceno,\n",
    "            c.invoicedate as datekey,\n",
    "            c.customerid as customerkey,\n",
    "            c.stockcode as productkey,\n",
    "            c.unitprice,\n",
    "            c.quantity \n",
    "        FROM retail_cleaned c INNER JOIN dimproduct p\n",
    "        ON c.stockcode= p.stockcode\n",
    "        AND c.description = p.description\n",
    "\n",
    "        INNER JOIN dimcustomer cust \n",
    "        ON c.customerid= cust.customerid\n",
    "    \"\"\"\n",
    "    fact= pd.read_sql(clened_data, con=engine)\n",
    "    fact= fact.reset_index(drop=True).set_index('saleskey')\n",
    "    print(insert_fact.head())\n",
    "    df.to_sql(name='fact_sales', con=db_connection, if_exists='append',index=True, index_label='saleskey')\n",
    "    print('done')\n",
    "laod_fact()"
   ]
  },
  {
   "cell_type": "code",
   "execution_count": null,
   "metadata": {},
   "outputs": [
    {
     "ename": "UndefinedTable",
     "evalue": "relation \"retail_cleaned\" does not exist\nLINE 9:         FROM retail_cleaned\n                     ^\n",
     "output_type": "error",
     "traceback": [
      "\u001b[1;31m---------------------------------------------------------------------------\u001b[0m",
      "\u001b[1;31mUndefinedTable\u001b[0m                            Traceback (most recent call last)",
      "Cell \u001b[1;32mIn[12], line 6\u001b[0m\n\u001b[0;32m      4\u001b[0m \u001b[38;5;28;01mwith\u001b[39;00m \u001b[38;5;28mopen\u001b[39m(\u001b[38;5;124m'\u001b[39m\u001b[38;5;124m../ETL-SCD-Queries/dimproduct.sql\u001b[39m\u001b[38;5;124m'\u001b[39m, \u001b[38;5;124m'\u001b[39m\u001b[38;5;124mr\u001b[39m\u001b[38;5;124m'\u001b[39m) \u001b[38;5;28;01mas\u001b[39;00m file:\n\u001b[0;32m      5\u001b[0m     sql_query \u001b[38;5;241m=\u001b[39m file\u001b[38;5;241m.\u001b[39mread()\n\u001b[1;32m----> 6\u001b[0m \u001b[43mcur\u001b[49m\u001b[38;5;241;43m.\u001b[39;49m\u001b[43mexecute\u001b[49m\u001b[43m(\u001b[49m\u001b[43msql_query\u001b[49m\u001b[43m)\u001b[49m\n\u001b[0;32m      7\u001b[0m results \u001b[38;5;241m=\u001b[39m cur\u001b[38;5;241m.\u001b[39mfetchall()\n\u001b[0;32m      8\u001b[0m cur\u001b[38;5;241m.\u001b[39mclose()\n",
      "\u001b[1;31mUndefinedTable\u001b[0m: relation \"retail_cleaned\" does not exist\nLINE 9:         FROM retail_cleaned\n                     ^\n"
     ]
    }
   ],
   "source": [
    "db_engine= db_connection(user='postgres', password='postgres', host='localhost', port=5432 ,db='test')\n",
    "cur = db_engine.cursor()\n",
    "\n",
    "with open('../ETL-SCD-Queries/dimproduct.sql', 'r') as file:\n",
    "    sql_query = file.read()\n",
    "cur.execute(sql_query)\n",
    "results = cur.fetchall()\n",
    "cur.close()\n",
    "db_engine.close()\n",
    "df = pd.DataFrame(results, columns=['stockcode', 'description'])\n",
    "print(df)\n"
   ]
  },
  {
   "cell_type": "code",
   "execution_count": null,
   "metadata": {},
   "outputs": [],
   "source": [
    "SELECT stockcode, description \n",
    "FROM (\n",
    "    SELECT stockcode, description, processed_date, \n",
    "           ROW_NUMBER() OVER (PARTITION BY stockcode ORDER BY processed_date DESC) AS row_num\n",
    "    FROM (\n",
    "        SELECT stockcode,\n",
    "        description,\n",
    "        DATE_ADD(CURRENT_DATE, INTERVAL 1 DAY) AS processed_date\n",
    "        FROM retail_cleaned\n",
    "        \n",
    "        UNION ALL\n",
    "        SELECT stockcode,\n",
    "        description,\n",
    "        processed_date\n",
    "        FROM dimproduct\n",
    "    ) AS combined\n",
    ") AS numbered_rows\n",
    "WHERE row_num = 1\n",
    "\n",
    "UNION ALL\n",
    "\n",
    "SELECT stockcode, description \n",
    "FROM retail_cleaned \n",
    "WHERE stockcode NOT IN (SELECT stockcode FROM dimproduct);\n"
   ]
  }
 ],
 "metadata": {
  "kernelspec": {
   "display_name": "Python 3",
   "language": "python",
   "name": "python3"
  },
  "language_info": {
   "codemirror_mode": {
    "name": "ipython",
    "version": 3
   },
   "file_extension": ".py",
   "mimetype": "text/x-python",
   "name": "python",
   "nbconvert_exporter": "python",
   "pygments_lexer": "ipython3",
   "version": "3.11.2"
  }
 },
 "nbformat": 4,
 "nbformat_minor": 2
}
