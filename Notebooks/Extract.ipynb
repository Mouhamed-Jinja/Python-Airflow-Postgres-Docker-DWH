{
 "cells": [
  {
   "cell_type": "markdown",
   "metadata": {},
   "source": [
    "# Here i will Extract the data from the CSV files and load it in Staging Layer called \"Retail-Raw\" Schema"
   ]
  },
  {
   "cell_type": "code",
   "execution_count": 1,
   "metadata": {},
   "outputs": [],
   "source": [
    "import pandas as pd\n",
    "from sqlalchemy import create_engine\n",
    "import time"
   ]
  },
  {
   "cell_type": "code",
   "execution_count": 66,
   "metadata": {},
   "outputs": [
    {
     "name": "stdout",
     "output_type": "stream",
     "text": [
      "Requirement already satisfied: psycopg2 in c:\\users\\mohammed\\appdata\\local\\programs\\python\\python311\\lib\\site-packages (2.9.9)\n"
     ]
    },
    {
     "name": "stderr",
     "output_type": "stream",
     "text": [
      "\n",
      "[notice] A new release of pip is available: 23.3.1 -> 24.0\n",
      "[notice] To update, run: python.exe -m pip install --upgrade pip\n"
     ]
    }
   ],
   "source": [
    "!pip install psycopg2"
   ]
  },
  {
   "cell_type": "code",
   "execution_count": 69,
   "metadata": {},
   "outputs": [
    {
     "name": "stdout",
     "output_type": "stream",
     "text": [
      "Collecting sqlalchemy\n",
      "  Downloading SQLAlchemy-2.0.25-cp311-cp311-win_amd64.whl.metadata (9.8 kB)\n",
      "Requirement already satisfied: typing-extensions>=4.6.0 in c:\\users\\mohammed\\appdata\\local\\programs\\python\\python311\\lib\\site-packages (from sqlalchemy) (4.8.0)\n",
      "Collecting greenlet!=0.4.17 (from sqlalchemy)\n",
      "  Downloading greenlet-3.0.3-cp311-cp311-win_amd64.whl.metadata (3.9 kB)\n",
      "Downloading SQLAlchemy-2.0.25-cp311-cp311-win_amd64.whl (2.1 MB)\n",
      "   ---------------------------------------- 0.0/2.1 MB ? eta -:--:--\n",
      "   ---------------------------------------- 0.0/2.1 MB ? eta -:--:--\n",
      "    --------------------------------------- 0.0/2.1 MB 435.7 kB/s eta 0:00:05\n",
      "    --------------------------------------- 0.0/2.1 MB 393.8 kB/s eta 0:00:06\n",
      "   - -------------------------------------- 0.1/2.1 MB 357.2 kB/s eta 0:00:06\n",
      "   - -------------------------------------- 0.1/2.1 MB 374.1 kB/s eta 0:00:06\n",
      "   -- ------------------------------------- 0.1/2.1 MB 409.6 kB/s eta 0:00:05\n",
      "   -- ------------------------------------- 0.1/2.1 MB 379.3 kB/s eta 0:00:06\n",
      "   -- ------------------------------------- 0.2/2.1 MB 398.2 kB/s eta 0:00:05\n",
      "   --- ------------------------------------ 0.2/2.1 MB 420.8 kB/s eta 0:00:05\n",
      "   ---- ----------------------------------- 0.2/2.1 MB 430.1 kB/s eta 0:00:05\n",
      "   ---- ----------------------------------- 0.3/2.1 MB 436.5 kB/s eta 0:00:05\n",
      "   ----- ---------------------------------- 0.3/2.1 MB 436.5 kB/s eta 0:00:05\n",
      "   ----- ---------------------------------- 0.3/2.1 MB 431.3 kB/s eta 0:00:05\n",
      "   ------ --------------------------------- 0.3/2.1 MB 437.0 kB/s eta 0:00:05\n",
      "   ------ --------------------------------- 0.3/2.1 MB 445.8 kB/s eta 0:00:04\n",
      "   ------- -------------------------------- 0.4/2.1 MB 449.7 kB/s eta 0:00:04\n",
      "   ------- -------------------------------- 0.4/2.1 MB 461.0 kB/s eta 0:00:04\n",
      "   ------- -------------------------------- 0.4/2.1 MB 456.4 kB/s eta 0:00:04\n",
      "   -------- ------------------------------- 0.5/2.1 MB 469.4 kB/s eta 0:00:04\n",
      "   -------- ------------------------------- 0.5/2.1 MB 465.0 kB/s eta 0:00:04\n",
      "   --------- ------------------------------ 0.5/2.1 MB 466.8 kB/s eta 0:00:04\n",
      "   --------- ------------------------------ 0.5/2.1 MB 472.0 kB/s eta 0:00:04\n",
      "   ---------- ----------------------------- 0.5/2.1 MB 466.7 kB/s eta 0:00:04\n",
      "   ---------- ----------------------------- 0.6/2.1 MB 471.8 kB/s eta 0:00:04\n",
      "   ----------- ---------------------------- 0.6/2.1 MB 468.2 kB/s eta 0:00:04\n",
      "   ----------- ---------------------------- 0.6/2.1 MB 477.2 kB/s eta 0:00:04\n",
      "   ------------ --------------------------- 0.6/2.1 MB 467.9 kB/s eta 0:00:04\n",
      "   ------------ --------------------------- 0.7/2.1 MB 469.2 kB/s eta 0:00:04\n",
      "   ------------- -------------------------- 0.7/2.1 MB 473.4 kB/s eta 0:00:03\n",
      "   ------------- -------------------------- 0.7/2.1 MB 477.1 kB/s eta 0:00:03\n",
      "   -------------- ------------------------- 0.7/2.1 MB 477.9 kB/s eta 0:00:03\n",
      "   -------------- ------------------------- 0.7/2.1 MB 474.9 kB/s eta 0:00:03\n",
      "   --------------- ------------------------ 0.8/2.1 MB 481.8 kB/s eta 0:00:03\n",
      "   --------------- ------------------------ 0.8/2.1 MB 478.9 kB/s eta 0:00:03\n",
      "   --------------- ------------------------ 0.8/2.1 MB 475.0 kB/s eta 0:00:03\n",
      "   ---------------- ----------------------- 0.8/2.1 MB 478.1 kB/s eta 0:00:03\n",
      "   ---------------- ----------------------- 0.9/2.1 MB 483.0 kB/s eta 0:00:03\n",
      "   ----------------- ---------------------- 0.9/2.1 MB 481.8 kB/s eta 0:00:03\n",
      "   ----------------- ---------------------- 0.9/2.1 MB 481.9 kB/s eta 0:00:03\n",
      "   ------------------ --------------------- 0.9/2.1 MB 484.8 kB/s eta 0:00:03\n",
      "   ------------------ --------------------- 1.0/2.1 MB 484.9 kB/s eta 0:00:03\n",
      "   ------------------ --------------------- 1.0/2.1 MB 482.5 kB/s eta 0:00:03\n",
      "   ------------------- -------------------- 1.0/2.1 MB 487.9 kB/s eta 0:00:03\n",
      "   ------------------- -------------------- 1.0/2.1 MB 485.3 kB/s eta 0:00:03\n",
      "   -------------------- ------------------- 1.1/2.1 MB 485.6 kB/s eta 0:00:03\n",
      "   -------------------- ------------------- 1.1/2.1 MB 488.1 kB/s eta 0:00:03\n",
      "   --------------------- ------------------ 1.1/2.1 MB 488.0 kB/s eta 0:00:02\n",
      "   ---------------------- ----------------- 1.1/2.1 MB 491.4 kB/s eta 0:00:02\n",
      "   ---------------------- ----------------- 1.2/2.1 MB 493.7 kB/s eta 0:00:02\n",
      "   ----------------------- ---------------- 1.2/2.1 MB 493.7 kB/s eta 0:00:02\n",
      "   ----------------------- ---------------- 1.2/2.1 MB 492.6 kB/s eta 0:00:02\n",
      "   ------------------------ --------------- 1.2/2.1 MB 492.5 kB/s eta 0:00:02\n",
      "   ------------------------ --------------- 1.3/2.1 MB 494.5 kB/s eta 0:00:02\n",
      "   ------------------------ --------------- 1.3/2.1 MB 492.5 kB/s eta 0:00:02\n",
      "   ------------------------- -------------- 1.3/2.1 MB 492.4 kB/s eta 0:00:02\n",
      "   ------------------------- -------------- 1.3/2.1 MB 494.4 kB/s eta 0:00:02\n",
      "   -------------------------- ------------- 1.4/2.1 MB 494.2 kB/s eta 0:00:02\n",
      "   -------------------------- ------------- 1.4/2.1 MB 493.4 kB/s eta 0:00:02\n",
      "   --------------------------- ------------ 1.4/2.1 MB 493.3 kB/s eta 0:00:02\n",
      "   --------------------------- ------------ 1.4/2.1 MB 492.3 kB/s eta 0:00:02\n",
      "   --------------------------- ------------ 1.4/2.1 MB 490.6 kB/s eta 0:00:02\n",
      "   ---------------------------- ----------- 1.5/2.1 MB 492.4 kB/s eta 0:00:02\n",
      "   ---------------------------- ----------- 1.5/2.1 MB 492.3 kB/s eta 0:00:02\n",
      "   ----------------------------- ---------- 1.5/2.1 MB 494.0 kB/s eta 0:00:02\n",
      "   ----------------------------- ---------- 1.5/2.1 MB 493.9 kB/s eta 0:00:02\n",
      "   ------------------------------ --------- 1.6/2.1 MB 492.3 kB/s eta 0:00:02\n",
      "   ------------------------------ --------- 1.6/2.1 MB 495.5 kB/s eta 0:00:01\n",
      "   ------------------------------- -------- 1.6/2.1 MB 493.8 kB/s eta 0:00:01\n",
      "   ------------------------------- -------- 1.6/2.1 MB 493.8 kB/s eta 0:00:01\n",
      "   -------------------------------- ------- 1.7/2.1 MB 495.4 kB/s eta 0:00:01\n",
      "   -------------------------------- ------- 1.7/2.1 MB 495.2 kB/s eta 0:00:01\n",
      "   --------------------------------- ------ 1.7/2.1 MB 496.7 kB/s eta 0:00:01\n",
      "   --------------------------------- ------ 1.7/2.1 MB 494.4 kB/s eta 0:00:01\n",
      "   ---------------------------------- ----- 1.8/2.1 MB 498.0 kB/s eta 0:00:01\n",
      "   ---------------------------------- ----- 1.8/2.1 MB 498.0 kB/s eta 0:00:01\n",
      "   ---------------------------------- ----- 1.8/2.1 MB 496.4 kB/s eta 0:00:01\n",
      "   ----------------------------------- ---- 1.8/2.1 MB 499.2 kB/s eta 0:00:01\n",
      "   ----------------------------------- ---- 1.9/2.1 MB 497.8 kB/s eta 0:00:01\n",
      "   ------------------------------------ --- 1.9/2.1 MB 497.6 kB/s eta 0:00:01\n",
      "   ------------------------------------ --- 1.9/2.1 MB 496.8 kB/s eta 0:00:01\n",
      "   ------------------------------------- -- 1.9/2.1 MB 496.8 kB/s eta 0:00:01\n",
      "   ------------------------------------- -- 2.0/2.1 MB 500.0 kB/s eta 0:00:01\n",
      "   -------------------------------------- - 2.0/2.1 MB 499.3 kB/s eta 0:00:01\n",
      "   -------------------------------------- - 2.0/2.1 MB 499.2 kB/s eta 0:00:01\n",
      "   ---------------------------------------  2.0/2.1 MB 500.4 kB/s eta 0:00:01\n",
      "   ---------------------------------------  2.1/2.1 MB 500.2 kB/s eta 0:00:01\n",
      "   ---------------------------------------- 2.1/2.1 MB 499.3 kB/s eta 0:00:00\n",
      "Downloading greenlet-3.0.3-cp311-cp311-win_amd64.whl (292 kB)\n",
      "   ---------------------------------------- 0.0/292.8 kB ? eta -:--:--\n",
      "   - -------------------------------------- 10.2/292.8 kB ? eta -:--:--\n",
      "   ----- --------------------------------- 41.0/292.8 kB 495.5 kB/s eta 0:00:01\n",
      "   -------- ------------------------------ 61.4/292.8 kB 550.5 kB/s eta 0:00:01\n",
      "   ------------ -------------------------- 92.2/292.8 kB 585.1 kB/s eta 0:00:01\n",
      "   --------------- ---------------------- 122.9/292.8 kB 554.9 kB/s eta 0:00:01\n",
      "   ------------------ ------------------- 143.4/292.8 kB 568.9 kB/s eta 0:00:01\n",
      "   ---------------------- --------------- 174.1/292.8 kB 553.5 kB/s eta 0:00:01\n",
      "   ------------------------- ------------ 194.6/292.8 kB 562.0 kB/s eta 0:00:01\n",
      "   ----------------------------- -------- 225.3/292.8 kB 551.4 kB/s eta 0:00:01\n",
      "   ------------------------------ ------- 235.5/292.8 kB 535.1 kB/s eta 0:00:01\n",
      "   ----------------------------------- -- 276.5/292.8 kB 550.1 kB/s eta 0:00:01\n",
      "   -------------------------------------- 292.8/292.8 kB 532.2 kB/s eta 0:00:00\n",
      "Installing collected packages: greenlet, sqlalchemy\n",
      "Successfully installed greenlet-3.0.3 sqlalchemy-2.0.25\n"
     ]
    },
    {
     "name": "stderr",
     "output_type": "stream",
     "text": [
      "\n",
      "[notice] A new release of pip is available: 23.3.1 -> 24.0\n",
      "[notice] To update, run: python.exe -m pip install --upgrade pip\n"
     ]
    }
   ],
   "source": [
    "!pip install sqlalchemy"
   ]
  },
  {
   "cell_type": "code",
   "execution_count": 2,
   "metadata": {},
   "outputs": [],
   "source": [
    "def db_connection(user, password, host, port,db):\n",
    "    engine= create_engine(\n",
    "         f'postgresql://{user}:{password}@{host}:{port}/{db}'\n",
    "    )\n",
    "    engine.connect()\n",
    "    return engine"
   ]
  },
  {
   "cell_type": "code",
   "execution_count": 3,
   "metadata": {},
   "outputs": [],
   "source": [
    "engine= db_connection(user='postgres', password='postgres', host='localhost', port=5432 ,db='retail_raw')"
   ]
  },
  {
   "cell_type": "markdown",
   "metadata": {},
   "source": [
    "## Here i will read the CSV as Chuncks, Chunck size is 100,000 record.\n",
    "### And wirte it to as chuncks in Silver Layer "
   ]
  },
  {
   "cell_type": "code",
   "execution_count": 4,
   "metadata": {},
   "outputs": [
    {
     "name": "stdout",
     "output_type": "stream",
     "text": [
      "- Inserted: 100000 Records, in 0 days 00:00:09.524145s\n",
      "- Inserted: 100000 Records, in 0 days 00:00:09.099126s\n",
      "- Inserted: 100000 Records, in 0 days 00:00:09.392231s\n",
      "- Inserted: 100000 Records, in 0 days 00:00:10.014726s\n",
      "- Inserted: 100000 Records, in 0 days 00:00:09.423145s\n",
      "- Inserted: 41909 Records, in 0 days 00:00:03.249045s\n",
      "Got Error\n"
     ]
    }
   ],
   "source": [
    "df_iter = pd.read_csv(r'C:\\Users\\Mohammed\\Desktop\\retail-DWH\\data\\online_retail.csv', iterator=True, chunksize=100000)\n",
    "df= next(df_iter)\n",
    "df.head(n=0).to_sql(name='raw_data', con=engine, if_exists='replace', index=True, index_label='Id')\n",
    "try:\n",
    "    while True:\n",
    "        s_time= pd.Timestamp.now()\n",
    "        df.to_sql(name='raw_data', con=engine, if_exists='append', index=True, index_label='Id')\n",
    "        e_time= pd.Timestamp.now()\n",
    "        print(\"- Inserted:\",df['InvoiceNo'].count(), f\"Records, in {e_time - s_time}s\")    \n",
    "        df= next(df_iter)\n",
    "except:\n",
    "    print(\"Got Error\")\n"
   ]
  },
  {
   "cell_type": "code",
   "execution_count": null,
   "metadata": {},
   "outputs": [],
   "source": []
  }
 ],
 "metadata": {
  "kernelspec": {
   "display_name": "Python 3",
   "language": "python",
   "name": "python3"
  },
  "language_info": {
   "codemirror_mode": {
    "name": "ipython",
    "version": 3
   },
   "file_extension": ".py",
   "mimetype": "text/x-python",
   "name": "python",
   "nbconvert_exporter": "python",
   "pygments_lexer": "ipython3",
   "version": "3.11.2"
  }
 },
 "nbformat": 4,
 "nbformat_minor": 2
}
