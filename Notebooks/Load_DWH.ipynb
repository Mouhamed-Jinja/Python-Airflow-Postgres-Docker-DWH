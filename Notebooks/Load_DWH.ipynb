{
 "cells": [
  {
   "cell_type": "code",
   "execution_count": 1,
   "metadata": {},
   "outputs": [],
   "source": [
    "import pandas as pd\n",
    "import psycopg2"
   ]
  },
  {
   "cell_type": "code",
   "execution_count": 2,
   "metadata": {},
   "outputs": [],
   "source": [
    "def db_connection(db_password, db_user, db_host, db_port, db_name):\n",
    "    engine= psycopg2.connect(\n",
    "        user= db_user,\n",
    "        password= db_password,\n",
    "        host= db_host,\n",
    "        port= db_port,\n",
    "        database= db_name\n",
    "        \n",
    "    )\n",
    "    return engine"
   ]
  },
  {
   "cell_type": "code",
   "execution_count": 3,
   "metadata": {},
   "outputs": [],
   "source": [
    "db_engine =db_connection(db_password='postgres',db_user='postgres', db_host='localhost',db_port=5432, db_name='silver')"
   ]
  },
  {
   "cell_type": "code",
   "execution_count": 4,
   "metadata": {},
   "outputs": [
    {
     "name": "stderr",
     "output_type": "stream",
     "text": [
      "C:\\Users\\Mohammed\\AppData\\Local\\Temp\\ipykernel_17624\\983933411.py:4: UserWarning: pandas only supports SQLAlchemy connectable (engine/connection) or database string URI or sqlite3 DBAPI2 connection. Other DBAPI2 objects are not tested. Please consider using SQLAlchemy.\n",
      "  df = pd.read_sql(query,db_engine,index_col='Id').copy()\n"
     ]
    },
    {
     "data": {
      "text/html": [
       "<div>\n",
       "<style scoped>\n",
       "    .dataframe tbody tr th:only-of-type {\n",
       "        vertical-align: middle;\n",
       "    }\n",
       "\n",
       "    .dataframe tbody tr th {\n",
       "        vertical-align: top;\n",
       "    }\n",
       "\n",
       "    .dataframe thead th {\n",
       "        text-align: right;\n",
       "    }\n",
       "</style>\n",
       "<table border=\"1\" class=\"dataframe\">\n",
       "  <thead>\n",
       "    <tr style=\"text-align: right;\">\n",
       "      <th></th>\n",
       "      <th>InvoiceNo</th>\n",
       "      <th>StockCode</th>\n",
       "      <th>Description</th>\n",
       "      <th>Quantity</th>\n",
       "      <th>InvoiceDate</th>\n",
       "      <th>UnitPrice</th>\n",
       "      <th>CustomerID</th>\n",
       "      <th>Country</th>\n",
       "      <th>Year</th>\n",
       "      <th>MonthNo</th>\n",
       "      <th>Day</th>\n",
       "      <th>saleskey</th>\n",
       "    </tr>\n",
       "    <tr>\n",
       "      <th>Id</th>\n",
       "      <th></th>\n",
       "      <th></th>\n",
       "      <th></th>\n",
       "      <th></th>\n",
       "      <th></th>\n",
       "      <th></th>\n",
       "      <th></th>\n",
       "      <th></th>\n",
       "      <th></th>\n",
       "      <th></th>\n",
       "      <th></th>\n",
       "      <th></th>\n",
       "    </tr>\n",
       "  </thead>\n",
       "  <tbody>\n",
       "    <tr>\n",
       "      <th>0</th>\n",
       "      <td>536365</td>\n",
       "      <td>85123A</td>\n",
       "      <td>WHITE HANGING HEART T-LIGHT HOLDER</td>\n",
       "      <td>6</td>\n",
       "      <td>2010-12-01 08:26:00</td>\n",
       "      <td>2.55</td>\n",
       "      <td>17850</td>\n",
       "      <td>United Kingdom</td>\n",
       "      <td>2010</td>\n",
       "      <td>12</td>\n",
       "      <td>01</td>\n",
       "      <td>5363651785085123A20101201</td>\n",
       "    </tr>\n",
       "    <tr>\n",
       "      <th>1</th>\n",
       "      <td>536365</td>\n",
       "      <td>71053</td>\n",
       "      <td>WHITE METAL LANTERN</td>\n",
       "      <td>6</td>\n",
       "      <td>2010-12-01 08:26:00</td>\n",
       "      <td>3.39</td>\n",
       "      <td>17850</td>\n",
       "      <td>United Kingdom</td>\n",
       "      <td>2010</td>\n",
       "      <td>12</td>\n",
       "      <td>01</td>\n",
       "      <td>536365178507105320101201</td>\n",
       "    </tr>\n",
       "    <tr>\n",
       "      <th>2</th>\n",
       "      <td>536365</td>\n",
       "      <td>84406B</td>\n",
       "      <td>CREAM CUPID HEARTS COAT HANGER</td>\n",
       "      <td>8</td>\n",
       "      <td>2010-12-01 08:26:00</td>\n",
       "      <td>2.75</td>\n",
       "      <td>17850</td>\n",
       "      <td>United Kingdom</td>\n",
       "      <td>2010</td>\n",
       "      <td>12</td>\n",
       "      <td>01</td>\n",
       "      <td>5363651785084406B20101201</td>\n",
       "    </tr>\n",
       "    <tr>\n",
       "      <th>3</th>\n",
       "      <td>536365</td>\n",
       "      <td>84029G</td>\n",
       "      <td>KNITTED UNION FLAG HOT WATER BOTTLE</td>\n",
       "      <td>6</td>\n",
       "      <td>2010-12-01 08:26:00</td>\n",
       "      <td>3.39</td>\n",
       "      <td>17850</td>\n",
       "      <td>United Kingdom</td>\n",
       "      <td>2010</td>\n",
       "      <td>12</td>\n",
       "      <td>01</td>\n",
       "      <td>5363651785084029G20101201</td>\n",
       "    </tr>\n",
       "    <tr>\n",
       "      <th>4</th>\n",
       "      <td>536365</td>\n",
       "      <td>84029E</td>\n",
       "      <td>RED WOOLLY HOTTIE WHITE HEART.</td>\n",
       "      <td>6</td>\n",
       "      <td>2010-12-01 08:26:00</td>\n",
       "      <td>3.39</td>\n",
       "      <td>17850</td>\n",
       "      <td>United Kingdom</td>\n",
       "      <td>2010</td>\n",
       "      <td>12</td>\n",
       "      <td>01</td>\n",
       "      <td>5363651785084029E20101201</td>\n",
       "    </tr>\n",
       "  </tbody>\n",
       "</table>\n",
       "</div>"
      ],
      "text/plain": [
       "   InvoiceNo StockCode                          Description  Quantity  \\\n",
       "Id                                                                      \n",
       "0     536365    85123A   WHITE HANGING HEART T-LIGHT HOLDER         6   \n",
       "1     536365     71053                  WHITE METAL LANTERN         6   \n",
       "2     536365    84406B       CREAM CUPID HEARTS COAT HANGER         8   \n",
       "3     536365    84029G  KNITTED UNION FLAG HOT WATER BOTTLE         6   \n",
       "4     536365    84029E       RED WOOLLY HOTTIE WHITE HEART.         6   \n",
       "\n",
       "           InvoiceDate  UnitPrice  CustomerID         Country  Year MonthNo  \\\n",
       "Id                                                                            \n",
       "0  2010-12-01 08:26:00       2.55       17850  United Kingdom  2010      12   \n",
       "1  2010-12-01 08:26:00       3.39       17850  United Kingdom  2010      12   \n",
       "2  2010-12-01 08:26:00       2.75       17850  United Kingdom  2010      12   \n",
       "3  2010-12-01 08:26:00       3.39       17850  United Kingdom  2010      12   \n",
       "4  2010-12-01 08:26:00       3.39       17850  United Kingdom  2010      12   \n",
       "\n",
       "   Day                   saleskey  \n",
       "Id                                 \n",
       "0   01  5363651785085123A20101201  \n",
       "1   01   536365178507105320101201  \n",
       "2   01  5363651785084406B20101201  \n",
       "3   01  5363651785084029G20101201  \n",
       "4   01  5363651785084029E20101201  "
      ]
     },
     "execution_count": 4,
     "metadata": {},
     "output_type": "execute_result"
    }
   ],
   "source": [
    "query= '''\n",
    "    select * from retail_cleaned\n",
    "'''\n",
    "df = pd.read_sql(query,db_engine,index_col='Id').copy()\n",
    "df.head()"
   ]
  },
  {
   "cell_type": "code",
   "execution_count": 14,
   "metadata": {},
   "outputs": [
    {
     "data": {
      "text/plain": [
       "InvoiceNo              object\n",
       "StockCode              object\n",
       "Description            object\n",
       "Quantity                int64\n",
       "InvoiceDate    datetime64[ns]\n",
       "UnitPrice             float64\n",
       "CustomerID              int64\n",
       "Country                object\n",
       "MonthNo                object\n",
       "Day                    object\n",
       "saleskey               object\n",
       "dtype: object"
      ]
     },
     "execution_count": 14,
     "metadata": {},
     "output_type": "execute_result"
    }
   ],
   "source": [
    "df.dtypes"
   ]
  },
  {
   "cell_type": "code",
   "execution_count": 6,
   "metadata": {},
   "outputs": [
    {
     "data": {
      "text/plain": [
       "(401604, 8)"
      ]
     },
     "execution_count": 6,
     "metadata": {},
     "output_type": "execute_result"
    }
   ],
   "source": [
    "df.shape"
   ]
  },
  {
   "cell_type": "code",
   "execution_count": 7,
   "metadata": {},
   "outputs": [],
   "source": [
    "from sqlalchemy import create_engine\n",
    "def db_connection(user, password, host, port,db):\n",
    "    engine= create_engine(\n",
    "         f'postgresql://{user}:{password}@{host}:{port}/{db}'\n",
    "    )\n",
    "    engine.connect()\n",
    "    return engine"
   ]
  },
  {
   "cell_type": "code",
   "execution_count": 8,
   "metadata": {},
   "outputs": [],
   "source": [
    "db_engine =db_connection('postgres', 'postgres','localhost', 5432,'gold')"
   ]
  },
  {
   "cell_type": "code",
   "execution_count": 9,
   "metadata": {},
   "outputs": [
    {
     "data": {
      "text/html": [
       "<div>\n",
       "<style scoped>\n",
       "    .dataframe tbody tr th:only-of-type {\n",
       "        vertical-align: middle;\n",
       "    }\n",
       "\n",
       "    .dataframe tbody tr th {\n",
       "        vertical-align: top;\n",
       "    }\n",
       "\n",
       "    .dataframe thead th {\n",
       "        text-align: right;\n",
       "    }\n",
       "</style>\n",
       "<table border=\"1\" class=\"dataframe\">\n",
       "  <thead>\n",
       "    <tr style=\"text-align: right;\">\n",
       "      <th></th>\n",
       "      <th>Country</th>\n",
       "      <th>name</th>\n",
       "    </tr>\n",
       "    <tr>\n",
       "      <th>CustomerID</th>\n",
       "      <th></th>\n",
       "      <th></th>\n",
       "    </tr>\n",
       "  </thead>\n",
       "  <tbody>\n",
       "    <tr>\n",
       "      <th>17850</th>\n",
       "      <td>United Kingdom</td>\n",
       "      <td>Customer17850</td>\n",
       "    </tr>\n",
       "    <tr>\n",
       "      <th>13047</th>\n",
       "      <td>United Kingdom</td>\n",
       "      <td>Customer13047</td>\n",
       "    </tr>\n",
       "    <tr>\n",
       "      <th>12583</th>\n",
       "      <td>France</td>\n",
       "      <td>Customer12583</td>\n",
       "    </tr>\n",
       "    <tr>\n",
       "      <th>13748</th>\n",
       "      <td>United Kingdom</td>\n",
       "      <td>Customer13748</td>\n",
       "    </tr>\n",
       "    <tr>\n",
       "      <th>15100</th>\n",
       "      <td>United Kingdom</td>\n",
       "      <td>Customer15100</td>\n",
       "    </tr>\n",
       "  </tbody>\n",
       "</table>\n",
       "</div>"
      ],
      "text/plain": [
       "                   Country           name\n",
       "CustomerID                               \n",
       "17850       United Kingdom  Customer17850\n",
       "13047       United Kingdom  Customer13047\n",
       "12583               France  Customer12583\n",
       "13748       United Kingdom  Customer13748\n",
       "15100       United Kingdom  Customer15100"
      ]
     },
     "execution_count": 9,
     "metadata": {},
     "output_type": "execute_result"
    }
   ],
   "source": [
    "import pandas as pd\n",
    "def Dimcustomer(cleaned_df, db_conn):\n",
    "    DimCust = cleaned_df[['CustomerID', 'Country']].copy()\n",
    "    DimCust['name'] = 'Customer' + DimCust['CustomerID'].astype(str)\n",
    "    DimCust= DimCust.reset_index(drop=True)\n",
    "    DimCust= DimCust.drop_duplicates('CustomerID').set_index('CustomerID')\n",
    "    DimCust.to_sql(name='dimcustomer', con=db_conn, if_exists='replace', index=True, index_label='CustomerID')\n",
    "    return DimCust\n",
    "\n",
    "dimCust = Dimcustomer(df, db_engine )\n",
    "dimCust.head()"
   ]
  },
  {
   "cell_type": "code",
   "execution_count": 10,
   "metadata": {},
   "outputs": [
    {
     "data": {
      "text/plain": [
       "Country    object\n",
       "name       object\n",
       "dtype: object"
      ]
     },
     "execution_count": 10,
     "metadata": {},
     "output_type": "execute_result"
    }
   ],
   "source": [
    "dimCust.dtypes"
   ]
  },
  {
   "cell_type": "code",
   "execution_count": 11,
   "metadata": {},
   "outputs": [
    {
     "data": {
      "text/plain": [
       "(4335, 2)"
      ]
     },
     "execution_count": 11,
     "metadata": {},
     "output_type": "execute_result"
    }
   ],
   "source": [
    "dimCust.shape"
   ]
  },
  {
   "cell_type": "markdown",
   "metadata": {},
   "source": [
    "## prepar DimProduct\n"
   ]
  },
  {
   "cell_type": "code",
   "execution_count": 12,
   "metadata": {},
   "outputs": [
    {
     "data": {
      "text/html": [
       "<div>\n",
       "<style scoped>\n",
       "    .dataframe tbody tr th:only-of-type {\n",
       "        vertical-align: middle;\n",
       "    }\n",
       "\n",
       "    .dataframe tbody tr th {\n",
       "        vertical-align: top;\n",
       "    }\n",
       "\n",
       "    .dataframe thead th {\n",
       "        text-align: right;\n",
       "    }\n",
       "</style>\n",
       "<table border=\"1\" class=\"dataframe\">\n",
       "  <thead>\n",
       "    <tr style=\"text-align: right;\">\n",
       "      <th></th>\n",
       "      <th>InvoiceNo</th>\n",
       "      <th>StockCode</th>\n",
       "      <th>Description</th>\n",
       "      <th>Quantity</th>\n",
       "      <th>InvoiceDate</th>\n",
       "      <th>UnitPrice</th>\n",
       "      <th>CustomerID</th>\n",
       "      <th>Country</th>\n",
       "    </tr>\n",
       "    <tr>\n",
       "      <th>Id</th>\n",
       "      <th></th>\n",
       "      <th></th>\n",
       "      <th></th>\n",
       "      <th></th>\n",
       "      <th></th>\n",
       "      <th></th>\n",
       "      <th></th>\n",
       "      <th></th>\n",
       "    </tr>\n",
       "  </thead>\n",
       "  <tbody>\n",
       "    <tr>\n",
       "      <th>0</th>\n",
       "      <td>536365</td>\n",
       "      <td>85123A</td>\n",
       "      <td>WHITE HANGING HEART T-LIGHT HOLDER</td>\n",
       "      <td>6</td>\n",
       "      <td>2010-12-01 08:26:00</td>\n",
       "      <td>2.55</td>\n",
       "      <td>17850</td>\n",
       "      <td>United Kingdom</td>\n",
       "    </tr>\n",
       "    <tr>\n",
       "      <th>1</th>\n",
       "      <td>536365</td>\n",
       "      <td>71053</td>\n",
       "      <td>WHITE METAL LANTERN</td>\n",
       "      <td>6</td>\n",
       "      <td>2010-12-01 08:26:00</td>\n",
       "      <td>3.39</td>\n",
       "      <td>17850</td>\n",
       "      <td>United Kingdom</td>\n",
       "    </tr>\n",
       "    <tr>\n",
       "      <th>2</th>\n",
       "      <td>536365</td>\n",
       "      <td>84406B</td>\n",
       "      <td>CREAM CUPID HEARTS COAT HANGER</td>\n",
       "      <td>8</td>\n",
       "      <td>2010-12-01 08:26:00</td>\n",
       "      <td>2.75</td>\n",
       "      <td>17850</td>\n",
       "      <td>United Kingdom</td>\n",
       "    </tr>\n",
       "    <tr>\n",
       "      <th>3</th>\n",
       "      <td>536365</td>\n",
       "      <td>84029G</td>\n",
       "      <td>KNITTED UNION FLAG HOT WATER BOTTLE</td>\n",
       "      <td>6</td>\n",
       "      <td>2010-12-01 08:26:00</td>\n",
       "      <td>3.39</td>\n",
       "      <td>17850</td>\n",
       "      <td>United Kingdom</td>\n",
       "    </tr>\n",
       "    <tr>\n",
       "      <th>4</th>\n",
       "      <td>536365</td>\n",
       "      <td>84029E</td>\n",
       "      <td>RED WOOLLY HOTTIE WHITE HEART.</td>\n",
       "      <td>6</td>\n",
       "      <td>2010-12-01 08:26:00</td>\n",
       "      <td>3.39</td>\n",
       "      <td>17850</td>\n",
       "      <td>United Kingdom</td>\n",
       "    </tr>\n",
       "  </tbody>\n",
       "</table>\n",
       "</div>"
      ],
      "text/plain": [
       "   InvoiceNo StockCode                          Description  Quantity  \\\n",
       "Id                                                                      \n",
       "0     536365    85123A   WHITE HANGING HEART T-LIGHT HOLDER         6   \n",
       "1     536365     71053                  WHITE METAL LANTERN         6   \n",
       "2     536365    84406B       CREAM CUPID HEARTS COAT HANGER         8   \n",
       "3     536365    84029G  KNITTED UNION FLAG HOT WATER BOTTLE         6   \n",
       "4     536365    84029E       RED WOOLLY HOTTIE WHITE HEART.         6   \n",
       "\n",
       "           InvoiceDate  UnitPrice  CustomerID         Country  \n",
       "Id                                                             \n",
       "0  2010-12-01 08:26:00       2.55       17850  United Kingdom  \n",
       "1  2010-12-01 08:26:00       3.39       17850  United Kingdom  \n",
       "2  2010-12-01 08:26:00       2.75       17850  United Kingdom  \n",
       "3  2010-12-01 08:26:00       3.39       17850  United Kingdom  \n",
       "4  2010-12-01 08:26:00       3.39       17850  United Kingdom  "
      ]
     },
     "execution_count": 12,
     "metadata": {},
     "output_type": "execute_result"
    }
   ],
   "source": [
    "df.head()"
   ]
  },
  {
   "cell_type": "code",
   "execution_count": 13,
   "metadata": {},
   "outputs": [],
   "source": [
    "def DimProduct(cleanedDF, engine):\n",
    "    dimpro= cleanedDF[['StockCode', 'Description']]\\\n",
    "        .drop_duplicates(subset=['StockCode', 'Description'])\\\n",
    "        .reset_index(drop=True)\n",
    "    dimpro['productKey']= range(1000, dimpro['StockCode'].count()+1000, 1)\n",
    "    dimpro['name']= 'Product-'+dimpro['StockCode']\n",
    "    #dimpro= dimpro.set_index('productKey')\n",
    "    #dimpro.to_sql(name= 'dimproduct', con= engine, index=True, index_label='productKey')\n",
    "    return dimpro"
   ]
  },
  {
   "cell_type": "code",
   "execution_count": 14,
   "metadata": {},
   "outputs": [
    {
     "data": {
      "text/plain": [
       "(3912, 4)"
      ]
     },
     "execution_count": 14,
     "metadata": {},
     "output_type": "execute_result"
    }
   ],
   "source": [
    "dimp= DimProduct(df, db_engine)\n",
    "dimp.shape"
   ]
  },
  {
   "cell_type": "code",
   "execution_count": 15,
   "metadata": {},
   "outputs": [
    {
     "data": {
      "text/html": [
       "<div>\n",
       "<style scoped>\n",
       "    .dataframe tbody tr th:only-of-type {\n",
       "        vertical-align: middle;\n",
       "    }\n",
       "\n",
       "    .dataframe tbody tr th {\n",
       "        vertical-align: top;\n",
       "    }\n",
       "\n",
       "    .dataframe thead th {\n",
       "        text-align: right;\n",
       "    }\n",
       "</style>\n",
       "<table border=\"1\" class=\"dataframe\">\n",
       "  <thead>\n",
       "    <tr style=\"text-align: right;\">\n",
       "      <th></th>\n",
       "      <th>StockCode</th>\n",
       "      <th>Description</th>\n",
       "      <th>productKey</th>\n",
       "      <th>name</th>\n",
       "    </tr>\n",
       "  </thead>\n",
       "  <tbody>\n",
       "    <tr>\n",
       "      <th>0</th>\n",
       "      <td>85123A</td>\n",
       "      <td>WHITE HANGING HEART T-LIGHT HOLDER</td>\n",
       "      <td>1000</td>\n",
       "      <td>Product-85123A</td>\n",
       "    </tr>\n",
       "    <tr>\n",
       "      <th>1</th>\n",
       "      <td>71053</td>\n",
       "      <td>WHITE METAL LANTERN</td>\n",
       "      <td>1001</td>\n",
       "      <td>Product-71053</td>\n",
       "    </tr>\n",
       "    <tr>\n",
       "      <th>2</th>\n",
       "      <td>84406B</td>\n",
       "      <td>CREAM CUPID HEARTS COAT HANGER</td>\n",
       "      <td>1002</td>\n",
       "      <td>Product-84406B</td>\n",
       "    </tr>\n",
       "    <tr>\n",
       "      <th>3</th>\n",
       "      <td>84029G</td>\n",
       "      <td>KNITTED UNION FLAG HOT WATER BOTTLE</td>\n",
       "      <td>1003</td>\n",
       "      <td>Product-84029G</td>\n",
       "    </tr>\n",
       "    <tr>\n",
       "      <th>4</th>\n",
       "      <td>84029E</td>\n",
       "      <td>RED WOOLLY HOTTIE WHITE HEART.</td>\n",
       "      <td>1004</td>\n",
       "      <td>Product-84029E</td>\n",
       "    </tr>\n",
       "  </tbody>\n",
       "</table>\n",
       "</div>"
      ],
      "text/plain": [
       "  StockCode                          Description  productKey            name\n",
       "0    85123A   WHITE HANGING HEART T-LIGHT HOLDER        1000  Product-85123A\n",
       "1     71053                  WHITE METAL LANTERN        1001   Product-71053\n",
       "2    84406B       CREAM CUPID HEARTS COAT HANGER        1002  Product-84406B\n",
       "3    84029G  KNITTED UNION FLAG HOT WATER BOTTLE        1003  Product-84029G\n",
       "4    84029E       RED WOOLLY HOTTIE WHITE HEART.        1004  Product-84029E"
      ]
     },
     "execution_count": 15,
     "metadata": {},
     "output_type": "execute_result"
    }
   ],
   "source": [
    "dimp.head()"
   ]
  },
  {
   "cell_type": "code",
   "execution_count": 16,
   "metadata": {},
   "outputs": [
    {
     "data": {
      "text/plain": [
       "StockCode      object\n",
       "Description    object\n",
       "productKey      int64\n",
       "name           object\n",
       "dtype: object"
      ]
     },
     "execution_count": 16,
     "metadata": {},
     "output_type": "execute_result"
    }
   ],
   "source": [
    "dimp.dtypes"
   ]
  },
  {
   "cell_type": "code",
   "execution_count": null,
   "metadata": {},
   "outputs": [],
   "source": []
  },
  {
   "cell_type": "markdown",
   "metadata": {},
   "source": [
    "## DimDate\n",
    "Date dimantion will be built on the top of invoice date column"
   ]
  },
  {
   "cell_type": "code",
   "execution_count": 17,
   "metadata": {},
   "outputs": [
    {
     "data": {
      "text/plain": [
       "Timestamp('2011-12-09 12:50:00')"
      ]
     },
     "execution_count": 17,
     "metadata": {},
     "output_type": "execute_result"
    }
   ],
   "source": [
    "invDateMax= df['InvoiceDate'].max()\n",
    "invDateMax"
   ]
  },
  {
   "cell_type": "code",
   "execution_count": 18,
   "metadata": {},
   "outputs": [
    {
     "data": {
      "text/plain": [
       "Timestamp('1970-01-01 00:00:00')"
      ]
     },
     "execution_count": 18,
     "metadata": {},
     "output_type": "execute_result"
    }
   ],
   "source": [
    "invDateMin= df['InvoiceDate'].min()\n",
    "invDateMin"
   ]
  },
  {
   "cell_type": "code",
   "execution_count": null,
   "metadata": {},
   "outputs": [],
   "source": []
  },
  {
   "cell_type": "code",
   "execution_count": 15,
   "metadata": {},
   "outputs": [
    {
     "data": {
      "text/html": [
       "<div>\n",
       "<style scoped>\n",
       "    .dataframe tbody tr th:only-of-type {\n",
       "        vertical-align: middle;\n",
       "    }\n",
       "\n",
       "    .dataframe tbody tr th {\n",
       "        vertical-align: top;\n",
       "    }\n",
       "\n",
       "    .dataframe thead th {\n",
       "        text-align: right;\n",
       "    }\n",
       "</style>\n",
       "<table border=\"1\" class=\"dataframe\">\n",
       "  <thead>\n",
       "    <tr style=\"text-align: right;\">\n",
       "      <th></th>\n",
       "      <th>InvoiceDate</th>\n",
       "      <th>Date</th>\n",
       "      <th>Year</th>\n",
       "      <th>MonthNo</th>\n",
       "      <th>MonthName</th>\n",
       "      <th>Day</th>\n",
       "      <th>quarter</th>\n",
       "    </tr>\n",
       "    <tr>\n",
       "      <th>DateKey</th>\n",
       "      <th></th>\n",
       "      <th></th>\n",
       "      <th></th>\n",
       "      <th></th>\n",
       "      <th></th>\n",
       "      <th></th>\n",
       "      <th></th>\n",
       "    </tr>\n",
       "  </thead>\n",
       "  <tbody>\n",
       "    <tr>\n",
       "      <th>2010-12-01 08:26:00</th>\n",
       "      <td>2010-12-01 08:26:00</td>\n",
       "      <td>2010-12-01</td>\n",
       "      <td>2010</td>\n",
       "      <td>12</td>\n",
       "      <td>December</td>\n",
       "      <td>01</td>\n",
       "      <td>4</td>\n",
       "    </tr>\n",
       "    <tr>\n",
       "      <th>2010-12-02 08:26:00</th>\n",
       "      <td>2010-12-02 08:26:00</td>\n",
       "      <td>2010-12-02</td>\n",
       "      <td>2010</td>\n",
       "      <td>12</td>\n",
       "      <td>December</td>\n",
       "      <td>02</td>\n",
       "      <td>4</td>\n",
       "    </tr>\n",
       "    <tr>\n",
       "      <th>2010-12-03 08:26:00</th>\n",
       "      <td>2010-12-03 08:26:00</td>\n",
       "      <td>2010-12-03</td>\n",
       "      <td>2010</td>\n",
       "      <td>12</td>\n",
       "      <td>December</td>\n",
       "      <td>03</td>\n",
       "      <td>4</td>\n",
       "    </tr>\n",
       "    <tr>\n",
       "      <th>2010-12-04 08:26:00</th>\n",
       "      <td>2010-12-04 08:26:00</td>\n",
       "      <td>2010-12-04</td>\n",
       "      <td>2010</td>\n",
       "      <td>12</td>\n",
       "      <td>December</td>\n",
       "      <td>04</td>\n",
       "      <td>4</td>\n",
       "    </tr>\n",
       "    <tr>\n",
       "      <th>2010-12-05 08:26:00</th>\n",
       "      <td>2010-12-05 08:26:00</td>\n",
       "      <td>2010-12-05</td>\n",
       "      <td>2010</td>\n",
       "      <td>12</td>\n",
       "      <td>December</td>\n",
       "      <td>05</td>\n",
       "      <td>4</td>\n",
       "    </tr>\n",
       "    <tr>\n",
       "      <th>...</th>\n",
       "      <td>...</td>\n",
       "      <td>...</td>\n",
       "      <td>...</td>\n",
       "      <td>...</td>\n",
       "      <td>...</td>\n",
       "      <td>...</td>\n",
       "      <td>...</td>\n",
       "    </tr>\n",
       "    <tr>\n",
       "      <th>2011-12-05 08:26:00</th>\n",
       "      <td>2011-12-05 08:26:00</td>\n",
       "      <td>2011-12-05</td>\n",
       "      <td>2011</td>\n",
       "      <td>12</td>\n",
       "      <td>December</td>\n",
       "      <td>05</td>\n",
       "      <td>4</td>\n",
       "    </tr>\n",
       "    <tr>\n",
       "      <th>2011-12-06 08:26:00</th>\n",
       "      <td>2011-12-06 08:26:00</td>\n",
       "      <td>2011-12-06</td>\n",
       "      <td>2011</td>\n",
       "      <td>12</td>\n",
       "      <td>December</td>\n",
       "      <td>06</td>\n",
       "      <td>4</td>\n",
       "    </tr>\n",
       "    <tr>\n",
       "      <th>2011-12-07 08:26:00</th>\n",
       "      <td>2011-12-07 08:26:00</td>\n",
       "      <td>2011-12-07</td>\n",
       "      <td>2011</td>\n",
       "      <td>12</td>\n",
       "      <td>December</td>\n",
       "      <td>07</td>\n",
       "      <td>4</td>\n",
       "    </tr>\n",
       "    <tr>\n",
       "      <th>2011-12-08 08:26:00</th>\n",
       "      <td>2011-12-08 08:26:00</td>\n",
       "      <td>2011-12-08</td>\n",
       "      <td>2011</td>\n",
       "      <td>12</td>\n",
       "      <td>December</td>\n",
       "      <td>08</td>\n",
       "      <td>4</td>\n",
       "    </tr>\n",
       "    <tr>\n",
       "      <th>2011-12-09 08:26:00</th>\n",
       "      <td>2011-12-09 08:26:00</td>\n",
       "      <td>2011-12-09</td>\n",
       "      <td>2011</td>\n",
       "      <td>12</td>\n",
       "      <td>December</td>\n",
       "      <td>09</td>\n",
       "      <td>4</td>\n",
       "    </tr>\n",
       "  </tbody>\n",
       "</table>\n",
       "<p>374 rows × 7 columns</p>\n",
       "</div>"
      ],
      "text/plain": [
       "                            InvoiceDate        Date  Year MonthNo MonthName  \\\n",
       "DateKey                                                                       \n",
       "2010-12-01 08:26:00 2010-12-01 08:26:00  2010-12-01  2010      12  December   \n",
       "2010-12-02 08:26:00 2010-12-02 08:26:00  2010-12-02  2010      12  December   \n",
       "2010-12-03 08:26:00 2010-12-03 08:26:00  2010-12-03  2010      12  December   \n",
       "2010-12-04 08:26:00 2010-12-04 08:26:00  2010-12-04  2010      12  December   \n",
       "2010-12-05 08:26:00 2010-12-05 08:26:00  2010-12-05  2010      12  December   \n",
       "...                                 ...         ...   ...     ...       ...   \n",
       "2011-12-05 08:26:00 2011-12-05 08:26:00  2011-12-05  2011      12  December   \n",
       "2011-12-06 08:26:00 2011-12-06 08:26:00  2011-12-06  2011      12  December   \n",
       "2011-12-07 08:26:00 2011-12-07 08:26:00  2011-12-07  2011      12  December   \n",
       "2011-12-08 08:26:00 2011-12-08 08:26:00  2011-12-08  2011      12  December   \n",
       "2011-12-09 08:26:00 2011-12-09 08:26:00  2011-12-09  2011      12  December   \n",
       "\n",
       "                    Day  quarter  \n",
       "DateKey                           \n",
       "2010-12-01 08:26:00  01        4  \n",
       "2010-12-02 08:26:00  02        4  \n",
       "2010-12-03 08:26:00  03        4  \n",
       "2010-12-04 08:26:00  04        4  \n",
       "2010-12-05 08:26:00  05        4  \n",
       "...                  ..      ...  \n",
       "2011-12-05 08:26:00  05        4  \n",
       "2011-12-06 08:26:00  06        4  \n",
       "2011-12-07 08:26:00  07        4  \n",
       "2011-12-08 08:26:00  08        4  \n",
       "2011-12-09 08:26:00  09        4  \n",
       "\n",
       "[374 rows x 7 columns]"
      ]
     },
     "execution_count": 15,
     "metadata": {},
     "output_type": "execute_result"
    }
   ],
   "source": [
    "\n",
    "def DimDate(cleanedDF):\n",
    "    cleanedDF['InvoiceDate']= pd.to_datetime(cleanedDF['InvoiceDate'])\n",
    "    maxdate= cleanedDF['InvoiceDate'].max()\n",
    "    mindate= cleanedDF['InvoiceDate'].min()\n",
    "    Dimdate = pd.DataFrame({'InvoiceDate': pd.date_range(start=mindate, end=maxdate, freq='D')})\n",
    "    Dimdate['DateKey'] = Dimdate['InvoiceDate']\n",
    "    Dimdate['Date'] = Dimdate['InvoiceDate'].dt.strftime('%Y-%m-%d')\n",
    "    Dimdate['Year']= Dimdate['InvoiceDate'].dt.strftime('%Y')\n",
    "    Dimdate['MonthNo']= Dimdate['InvoiceDate'].dt.strftime('%m')\n",
    "    Dimdate['MonthName']= Dimdate['InvoiceDate'].dt.strftime('%B')\n",
    "    Dimdate['Day']= Dimdate['InvoiceDate'].dt.strftime('%d')\n",
    "    Dimdate['quarter']= Dimdate['InvoiceDate'].dt.quarter\n",
    "    Dimdate= Dimdate.reset_index(drop=True).set_index('DateKey')\n",
    "    return Dimdate\n",
    "tt= DimDate(df)\n",
    "tt"
   ]
  },
  {
   "cell_type": "markdown",
   "metadata": {},
   "source": [
    "## Fact table\n",
    "- I will join the denoramlized table with the dimantions to add the keys\n",
    "- Then select the needed col in fact table\n",
    "- Granularity is transactional"
   ]
  },
  {
   "cell_type": "code",
   "execution_count": 20,
   "metadata": {},
   "outputs": [
    {
     "data": {
      "text/html": [
       "<div>\n",
       "<style scoped>\n",
       "    .dataframe tbody tr th:only-of-type {\n",
       "        vertical-align: middle;\n",
       "    }\n",
       "\n",
       "    .dataframe tbody tr th {\n",
       "        vertical-align: top;\n",
       "    }\n",
       "\n",
       "    .dataframe thead th {\n",
       "        text-align: right;\n",
       "    }\n",
       "</style>\n",
       "<table border=\"1\" class=\"dataframe\">\n",
       "  <thead>\n",
       "    <tr style=\"text-align: right;\">\n",
       "      <th></th>\n",
       "      <th>InvoiceNo</th>\n",
       "      <th>StockCode</th>\n",
       "      <th>Description</th>\n",
       "      <th>Quantity</th>\n",
       "      <th>InvoiceDate</th>\n",
       "      <th>UnitPrice</th>\n",
       "      <th>CustomerID</th>\n",
       "      <th>Country</th>\n",
       "    </tr>\n",
       "    <tr>\n",
       "      <th>Id</th>\n",
       "      <th></th>\n",
       "      <th></th>\n",
       "      <th></th>\n",
       "      <th></th>\n",
       "      <th></th>\n",
       "      <th></th>\n",
       "      <th></th>\n",
       "      <th></th>\n",
       "    </tr>\n",
       "  </thead>\n",
       "  <tbody>\n",
       "    <tr>\n",
       "      <th>0</th>\n",
       "      <td>536365</td>\n",
       "      <td>85123A</td>\n",
       "      <td>WHITE HANGING HEART T-LIGHT HOLDER</td>\n",
       "      <td>6</td>\n",
       "      <td>2010-12-01 08:26:00</td>\n",
       "      <td>2.55</td>\n",
       "      <td>17850</td>\n",
       "      <td>United Kingdom</td>\n",
       "    </tr>\n",
       "    <tr>\n",
       "      <th>1</th>\n",
       "      <td>536365</td>\n",
       "      <td>71053</td>\n",
       "      <td>WHITE METAL LANTERN</td>\n",
       "      <td>6</td>\n",
       "      <td>2010-12-01 08:26:00</td>\n",
       "      <td>3.39</td>\n",
       "      <td>17850</td>\n",
       "      <td>United Kingdom</td>\n",
       "    </tr>\n",
       "    <tr>\n",
       "      <th>2</th>\n",
       "      <td>536365</td>\n",
       "      <td>84406B</td>\n",
       "      <td>CREAM CUPID HEARTS COAT HANGER</td>\n",
       "      <td>8</td>\n",
       "      <td>2010-12-01 08:26:00</td>\n",
       "      <td>2.75</td>\n",
       "      <td>17850</td>\n",
       "      <td>United Kingdom</td>\n",
       "    </tr>\n",
       "    <tr>\n",
       "      <th>3</th>\n",
       "      <td>536365</td>\n",
       "      <td>84029G</td>\n",
       "      <td>KNITTED UNION FLAG HOT WATER BOTTLE</td>\n",
       "      <td>6</td>\n",
       "      <td>2010-12-01 08:26:00</td>\n",
       "      <td>3.39</td>\n",
       "      <td>17850</td>\n",
       "      <td>United Kingdom</td>\n",
       "    </tr>\n",
       "    <tr>\n",
       "      <th>4</th>\n",
       "      <td>536365</td>\n",
       "      <td>84029E</td>\n",
       "      <td>RED WOOLLY HOTTIE WHITE HEART.</td>\n",
       "      <td>6</td>\n",
       "      <td>2010-12-01 08:26:00</td>\n",
       "      <td>3.39</td>\n",
       "      <td>17850</td>\n",
       "      <td>United Kingdom</td>\n",
       "    </tr>\n",
       "  </tbody>\n",
       "</table>\n",
       "</div>"
      ],
      "text/plain": [
       "   InvoiceNo StockCode                          Description  Quantity  \\\n",
       "Id                                                                      \n",
       "0     536365    85123A   WHITE HANGING HEART T-LIGHT HOLDER         6   \n",
       "1     536365     71053                  WHITE METAL LANTERN         6   \n",
       "2     536365    84406B       CREAM CUPID HEARTS COAT HANGER         8   \n",
       "3     536365    84029G  KNITTED UNION FLAG HOT WATER BOTTLE         6   \n",
       "4     536365    84029E       RED WOOLLY HOTTIE WHITE HEART.         6   \n",
       "\n",
       "           InvoiceDate  UnitPrice  CustomerID         Country  \n",
       "Id                                                             \n",
       "0  2010-12-01 08:26:00       2.55       17850  United Kingdom  \n",
       "1  2010-12-01 08:26:00       3.39       17850  United Kingdom  \n",
       "2  2010-12-01 08:26:00       2.75       17850  United Kingdom  \n",
       "3  2010-12-01 08:26:00       3.39       17850  United Kingdom  \n",
       "4  2010-12-01 08:26:00       3.39       17850  United Kingdom  "
      ]
     },
     "execution_count": 20,
     "metadata": {},
     "output_type": "execute_result"
    }
   ],
   "source": [
    "df.head()"
   ]
  },
  {
   "cell_type": "markdown",
   "metadata": {},
   "source": [
    "Join with DimProduct to add the product key"
   ]
  },
  {
   "cell_type": "code",
   "execution_count": 21,
   "metadata": {},
   "outputs": [
    {
     "data": {
      "text/plain": [
       "(401604, 8)"
      ]
     },
     "execution_count": 21,
     "metadata": {},
     "output_type": "execute_result"
    }
   ],
   "source": [
    "df.shape"
   ]
  },
  {
   "cell_type": "code",
   "execution_count": 24,
   "metadata": {},
   "outputs": [],
   "source": [
    "def FactTable(cleaned_data, DimProduct, engine):\n",
    "    fact =cleaned_data.merge(DimProduct, on=['StockCode','Description']).copy()\n",
    "    fact= fact[['InvoiceNo','InvoiceDate','CustomerID', 'productKey','UnitPrice','Quantity']].set_index('InvoiceNo')\n",
    "    fact= fact.rename(columns={\n",
    "            'CustomerID':'CustomerKey',\n",
    "            'InvoiceDate':'DateKey'\n",
    "        })\n",
    "    #fact.to_sql(name='fact', con=engine, index=True, index_label='InvoiceNo')\n",
    "    return fact\n",
    "    \n"
   ]
  },
  {
   "cell_type": "code",
   "execution_count": 34,
   "metadata": {},
   "outputs": [],
   "source": [
    "result =FactTable(df,dimp, db_engine)"
   ]
  },
  {
   "cell_type": "code",
   "execution_count": 26,
   "metadata": {},
   "outputs": [
    {
     "data": {
      "text/html": [
       "<div>\n",
       "<style scoped>\n",
       "    .dataframe tbody tr th:only-of-type {\n",
       "        vertical-align: middle;\n",
       "    }\n",
       "\n",
       "    .dataframe tbody tr th {\n",
       "        vertical-align: top;\n",
       "    }\n",
       "\n",
       "    .dataframe thead th {\n",
       "        text-align: right;\n",
       "    }\n",
       "</style>\n",
       "<table border=\"1\" class=\"dataframe\">\n",
       "  <thead>\n",
       "    <tr style=\"text-align: right;\">\n",
       "      <th></th>\n",
       "      <th>DateKey</th>\n",
       "      <th>CustomerKey</th>\n",
       "      <th>productKey</th>\n",
       "      <th>UnitPrice</th>\n",
       "      <th>Quantity</th>\n",
       "    </tr>\n",
       "    <tr>\n",
       "      <th>InvoiceNo</th>\n",
       "      <th></th>\n",
       "      <th></th>\n",
       "      <th></th>\n",
       "      <th></th>\n",
       "      <th></th>\n",
       "    </tr>\n",
       "  </thead>\n",
       "  <tbody>\n",
       "    <tr>\n",
       "      <th>536365</th>\n",
       "      <td>2010-12-01 08:26:00</td>\n",
       "      <td>17850</td>\n",
       "      <td>1000</td>\n",
       "      <td>2.55</td>\n",
       "      <td>6</td>\n",
       "    </tr>\n",
       "    <tr>\n",
       "      <th>536373</th>\n",
       "      <td>2010-12-01 09:02:00</td>\n",
       "      <td>17850</td>\n",
       "      <td>1000</td>\n",
       "      <td>2.55</td>\n",
       "      <td>6</td>\n",
       "    </tr>\n",
       "    <tr>\n",
       "      <th>536375</th>\n",
       "      <td>2010-12-01 09:32:00</td>\n",
       "      <td>17850</td>\n",
       "      <td>1000</td>\n",
       "      <td>2.55</td>\n",
       "      <td>6</td>\n",
       "    </tr>\n",
       "    <tr>\n",
       "      <th>536390</th>\n",
       "      <td>2010-12-01 10:19:00</td>\n",
       "      <td>17511</td>\n",
       "      <td>1000</td>\n",
       "      <td>2.55</td>\n",
       "      <td>64</td>\n",
       "    </tr>\n",
       "    <tr>\n",
       "      <th>536394</th>\n",
       "      <td>2010-12-01 10:39:00</td>\n",
       "      <td>13408</td>\n",
       "      <td>1000</td>\n",
       "      <td>2.55</td>\n",
       "      <td>32</td>\n",
       "    </tr>\n",
       "  </tbody>\n",
       "</table>\n",
       "</div>"
      ],
      "text/plain": [
       "                      DateKey  CustomerKey  productKey  UnitPrice  Quantity\n",
       "InvoiceNo                                                                  \n",
       "536365    2010-12-01 08:26:00        17850        1000       2.55         6\n",
       "536373    2010-12-01 09:02:00        17850        1000       2.55         6\n",
       "536375    2010-12-01 09:32:00        17850        1000       2.55         6\n",
       "536390    2010-12-01 10:19:00        17511        1000       2.55        64\n",
       "536394    2010-12-01 10:39:00        13408        1000       2.55        32"
      ]
     },
     "execution_count": 26,
     "metadata": {},
     "output_type": "execute_result"
    }
   ],
   "source": [
    "result.head()"
   ]
  },
  {
   "cell_type": "code",
   "execution_count": 40,
   "metadata": {},
   "outputs": [
    {
     "name": "stdout",
     "output_type": "stream",
     "text": [
      "        Column       Data_Type\n",
      "0      DateKey  datetime64[ns]\n",
      "1  CustomerKey           int64\n",
      "2   productKey           int64\n",
      "3    UnitPrice         float64\n",
      "4     Quantity           int64\n"
     ]
    }
   ],
   "source": [
    "res = result.dtypes.reset_index()\n",
    "res.columns = ['Column', 'Data_Type']\n",
    "print(res)"
   ]
  },
  {
   "cell_type": "code",
   "execution_count": 41,
   "metadata": {},
   "outputs": [
    {
     "name": "stdout",
     "output_type": "stream",
     "text": [
      "        Column Data_Type\n",
      "0    InvoiceNo    object\n",
      "1    StockCode    object\n",
      "2  Description    object\n",
      "3     Quantity     int64\n",
      "4  InvoiceDate    object\n",
      "5    UnitPrice   float64\n",
      "6   CustomerID   float64\n",
      "7      Country    object\n"
     ]
    }
   ],
   "source": [
    "import pandas as pd\n",
    "\n",
    "# Dictionary containing column names and data types\n",
    "data = {\n",
    "    'Column': ['InvoiceNo', 'StockCode', 'Description', 'Quantity', 'InvoiceDate', 'UnitPrice', 'CustomerID', 'Country'],\n",
    "    'Data_Type': ['object', 'object', 'object', 'int64', 'object', 'float64', 'float64', 'object']\n",
    "}\n",
    "\n",
    "# Create DataFrame from the dictionary\n",
    "df_dtypes = pd.DataFrame(data)\n",
    "\n",
    "print(df_dtypes)\n"
   ]
  },
  {
   "cell_type": "code",
   "execution_count": 38,
   "metadata": {},
   "outputs": [
    {
     "name": "stdout",
     "output_type": "stream",
     "text": [
      "      Column Data_Type_result Data_Type_df_dtypes  Match\n",
      "0  UnitPrice          float64             float64   True\n",
      "1   Quantity            int64               int64   True\n",
      "Mismatched columns: Series([], Name: Column, dtype: object)\n"
     ]
    }
   ],
   "source": [
    "# Merge the two DataFrames on the \"Column_name\" column\n",
    "merged_df = pd.merge(res, df_dtypes, on='Column', suffixes=('_result', '_df_dtypes'))\n",
    "\n",
    "# Compare the \"Data_Type\" columns\n",
    "merged_df['Match'] = merged_df['Data_Type_result'] == merged_df['Data_Type_df_dtypes']\n",
    "\n",
    "# Print the comparison result\n",
    "print(merged_df)\n",
    "\n",
    "# Check for columns that do not match\n",
    "mismatched_columns = merged_df[merged_df['Match'] == False]['Column']\n",
    "print(\"Mismatched columns:\", mismatched_columns)"
   ]
  },
  {
   "cell_type": "code",
   "execution_count": 39,
   "metadata": {},
   "outputs": [
    {
     "name": "stdout",
     "output_type": "stream",
     "text": [
      "      Column Data_Type_res Data_Type_df  Match\n",
      "0  UnitPrice       float64      float64   True\n",
      "1   Quantity         int64        int64   True\n",
      "Mismatched columns: Series([], Name: Column, dtype: object)\n",
      "Mismatch locations:\n",
      "Empty DataFrame\n",
      "Columns: [Column, Data_Type_res, Data_Type_df]\n",
      "Index: []\n"
     ]
    }
   ],
   "source": [
    "merged_df = pd.merge(res, df_dtypes, left_on='Column', right_on='Column', suffixes=('_res', '_df'))\n",
    "\n",
    "# Compare the \"Data_Type\" columns\n",
    "merged_df['Match'] = merged_df['Data_Type_res'] == merged_df['Data_Type_df']\n",
    "\n",
    "# Print the comparison result\n",
    "print(merged_df)\n",
    "\n",
    "# Check for columns that do not match\n",
    "mismatched_columns = merged_df[merged_df['Match'] == False]['Column']\n",
    "print(\"Mismatched columns:\", mismatched_columns)\n",
    "\n",
    "# Show where the mismatch occurs\n",
    "mismatch_locations = merged_df[merged_df['Match'] == False][['Column', 'Data_Type_res', 'Data_Type_df']]\n",
    "print(\"Mismatch locations:\")\n",
    "print(mismatch_locations)"
   ]
  },
  {
   "cell_type": "code",
   "execution_count": null,
   "metadata": {},
   "outputs": [],
   "source": []
  }
 ],
 "metadata": {
  "kernelspec": {
   "display_name": "Python 3",
   "language": "python",
   "name": "python3"
  },
  "language_info": {
   "codemirror_mode": {
    "name": "ipython",
    "version": 3
   },
   "file_extension": ".py",
   "mimetype": "text/x-python",
   "name": "python",
   "nbconvert_exporter": "python",
   "pygments_lexer": "ipython3",
   "version": "3.11.2"
  }
 },
 "nbformat": 4,
 "nbformat_minor": 2
}
